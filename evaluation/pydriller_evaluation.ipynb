{
  "nbformat": 4,
  "nbformat_minor": 0,
  "metadata": {
    "colab": {
      "name": "pydriller_evaluation.ipynb",
      "provenance": [],
      "collapsed_sections": [],
      "machine_shape": "hm"
    },
    "kernelspec": {
      "name": "python3",
      "display_name": "Python 3"
    }
  },
  "cells": [
    {
      "cell_type": "code",
      "metadata": {
        "id": "j5JlwMe1Gl_-"
      },
      "source": [
        "import nltk\r\n",
        "import pandas as pd\r\n",
        "\r\n",
        "from nltk.translate.bleu_score import SmoothingFunction"
      ],
      "execution_count": 6,
      "outputs": []
    },
    {
      "cell_type": "code",
      "metadata": {
        "id": "lM63kpOSGnL1",
        "colab": {
          "base_uri": "https://localhost:8080/"
        },
        "outputId": "b9daa069-d5c4-42c7-addc-5b76a9f83525"
      },
      "source": [
        "results_list = ['results_pydriller_14k.csv',\r\n",
        "                'results_pydriller_c.csv']\r\n",
        "\r\n",
        "for result in results_list:\r\n",
        "  data = pd.read_csv(result, engine='python')\r\n",
        "  data.dropna(inplace=True)\r\n",
        "  hypotheses = data['Predicted comment']\r\n",
        "  references = data['Original Comment']\r\n",
        "  list_of_references = references.tolist()\r\n",
        "  list_of_hypotheses = hypotheses.tolist()\r\n",
        "\r\n",
        "  sentence_based_references = [reference.split(' ') for reference in list_of_references]\r\n",
        "  sentence_based_hypotheses = [hypothesis.split(' ') for hypothesis in list_of_hypotheses]\r\n",
        "  print(\"\\nFile name: \", result)\r\n",
        "\r\n",
        "  bleu_score_c = nltk.translate.bleu_score.corpus_bleu(sentence_based_references, sentence_based_hypotheses)\r\n",
        "  print(\"\\nBleu Score: \", bleu_score_c)"
      ],
      "execution_count": 9,
      "outputs": [
        {
          "output_type": "stream",
          "text": [
            "\n",
            "File name:  results_pydriller_14k.csv\n"
          ],
          "name": "stdout"
        },
        {
          "output_type": "stream",
          "text": [
            "/usr/local/lib/python3.6/dist-packages/nltk/translate/bleu_score.py:490: UserWarning: \n",
            "Corpus/Sentence contains 0 counts of 3-gram overlaps.\n",
            "BLEU scores might be undesirable; use SmoothingFunction().\n",
            "  warnings.warn(_msg)\n"
          ],
          "name": "stderr"
        },
        {
          "output_type": "stream",
          "text": [
            "\n",
            "Bleu Score:  0.08041667008873227\n",
            "\n",
            "File name:  results_pydriller_c.csv\n",
            "\n",
            "Bleu Score:  0.4854009661723119\n"
          ],
          "name": "stdout"
        },
        {
          "output_type": "stream",
          "text": [
            "/usr/local/lib/python3.6/dist-packages/nltk/translate/bleu_score.py:490: UserWarning: \n",
            "Corpus/Sentence contains 0 counts of 2-gram overlaps.\n",
            "BLEU scores might be undesirable; use SmoothingFunction().\n",
            "  warnings.warn(_msg)\n"
          ],
          "name": "stderr"
        }
      ]
    },
    {
      "cell_type": "code",
      "metadata": {
        "id": "a3e8rIi7GqH0",
        "colab": {
          "base_uri": "https://localhost:8080/"
        },
        "outputId": "21f39b67-f57b-4e28-ab87-693225a2d8cb"
      },
      "source": [
        "bleu_list = []\r\n",
        "for result in results_list:\r\n",
        "  data = pd.read_csv(result, engine='python')\r\n",
        "  data.dropna(inplace=True)\r\n",
        "\r\n",
        "  hypotheses = data['Predicted comment']\r\n",
        "  references = data['Original Comment']\r\n",
        "\r\n",
        "  list_of_references = references.tolist()\r\n",
        "  list_of_hypotheses = hypotheses.tolist()\r\n",
        "\r\n",
        "  sentence_based_references = [reference.split(' ') for reference in list_of_references]\r\n",
        "  sentence_based_hypotheses = [hypothesis.split(' ') for hypothesis in list_of_hypotheses]\r\n",
        "  print(\"\\nFile name: \", result)\r\n",
        "\r\n",
        "  sm_fn = SmoothingFunction().method4\r\n",
        "  bleu_score_c = nltk.translate.bleu_score.corpus_bleu(list_of_references, list_of_hypotheses, smoothing_function=sm_fn)\r\n",
        "  bleu_list.append(bleu_score_c)\r\n",
        "  print(\"\\nCorpus-level Bleu Score: \", bleu_score_c)"
      ],
      "execution_count": 10,
      "outputs": [
        {
          "output_type": "stream",
          "text": [
            "\n",
            "File name:  results_pydriller_14k.csv\n",
            "\n",
            "Corpus-level Bleu Score:  0.2803203635063388\n",
            "\n",
            "File name:  results_pydriller_c.csv\n",
            "\n",
            "Corpus-level Bleu Score:  0.2921146970988232\n"
          ],
          "name": "stdout"
        }
      ]
    },
    {
      "cell_type": "code",
      "metadata": {
        "id": "9ngaBUk9GueB",
        "colab": {
          "base_uri": "https://localhost:8080/",
          "height": 312
        },
        "outputId": "7afd6028-c59b-4914-e010-2eace93f34c8"
      },
      "source": [
        "import matplotlib.pyplot as plt\r\n",
        "\r\n",
        "x1 = ['14k', '40k']\r\n",
        "y1 = [bleu*100 for bleu in bleu_list]\r\n",
        "\r\n",
        "plt.bar(x1, y1, color='c', align='center', width=0.3)\r\n",
        "plt.plot()\r\n",
        "\r\n",
        "plt.xlabel(\"Pydriller Dataset\")\r\n",
        "plt.ylabel(\"Bleu score\")\r\n",
        "plt.title(\"Plot for Bleu scores\")\r\n",
        "plt.legend()\r\n",
        "plt.show()"
      ],
      "execution_count": 11,
      "outputs": [
        {
          "output_type": "stream",
          "text": [
            "No handles with labels found to put in legend.\n"
          ],
          "name": "stderr"
        },
        {
          "output_type": "display_data",
          "data": {
            "image/png": "[encoded data removed]",
            "text/plain": [
              "<Figure size 432x288 with 1 Axes>"
            ]
          },
          "metadata": {
            "tags": [],
            "needs_background": "light"
          }
        }
      ]
    },
    {
      "cell_type": "code",
      "metadata": {
        "id": "uOSXkkmaGxSH",
        "colab": {
          "base_uri": "https://localhost:8080/"
        },
        "outputId": "b0639280-2ca8-4557-b049-b97ba4de6475"
      },
      "source": [
        "!pip install py-rouge\r\n",
        "\r\n",
        "import rouge\r\n",
        "import nltk\r\n",
        "nltk.download('punkt')\r\n",
        "\r\n",
        "#reference: https://pypi.org/project/py-rouge/\r\n",
        "def prepare_results(p, r, f):\r\n",
        "    return '\\t{}:\\t{}: {:5.2f}\\t{}: {:5.2f}\\t{}: {:5.2f}'.format(metric, 'P', 100.0 * p, 'R', 100.0 * r, 'F1', 100.0 * f)\r\n",
        "\r\n",
        "print('Evaluation with {}'.format('Avg'))\r\n",
        "apply_avg = 'Avg'\r\n",
        "\r\n",
        "evaluator = rouge.Rouge(metrics=['rouge-n', 'rouge-l', 'rouge-w'],\r\n",
        "                           max_n=4,\r\n",
        "                           limit_length=True,\r\n",
        "                           length_limit=300,\r\n",
        "                           length_limit_type='words',\r\n",
        "                           apply_avg=apply_avg,\r\n",
        "                           alpha=0.5, # Default F1_score\r\n",
        "                           weight_factor=1.2,\r\n",
        "                           stemming=True)\r\n",
        "\r\n",
        "for result in results_list:\r\n",
        "    data = pd.read_csv(result, engine='python')\r\n",
        "    data.dropna(inplace=True)\r\n",
        "    hypotheses = data['Predicted comment']\r\n",
        "    references = data['Original Comment']\r\n",
        "\r\n",
        "    all_hypothesis = hypotheses.tolist()\r\n",
        "    all_references = references.tolist()\r\n",
        "\r\n",
        "    scores = evaluator.get_scores(all_hypothesis, all_references)\r\n",
        "\r\n",
        "    print(\"\\n\\nScores for \", result)\r\n",
        "    data_scores = pd.DataFrame.from_dict(scores)\r\n",
        "    print(data_scores.head())"
      ],
      "execution_count": 12,
      "outputs": [
        {
          "output_type": "stream",
          "text": [
            "Requirement already satisfied: py-rouge in /usr/local/lib/python3.6/dist-packages (1.1)\n",
            "[nltk_data] Downloading package punkt to /root/nltk_data...\n",
            "[nltk_data]   Package punkt is already up-to-date!\n",
            "Evaluation with Avg\n",
            "\n",
            "\n",
            "Scores for  results_pydriller_14k.csv\n",
            "    rouge-4   rouge-1   rouge-2   rouge-3   rouge-l   rouge-w\n",
            "f  0.003798  0.168601  0.032097  0.011369  0.201935  0.090271\n",
            "p  0.003936  0.167403  0.032124  0.011527  0.200264  0.126696\n",
            "r  0.003833  0.179730  0.033347  0.011711  0.212232  0.074358\n",
            "\n",
            "\n",
            "Scores for  results_pydriller_c.csv\n",
            "    rouge-4   rouge-1   rouge-2   rouge-3   rouge-l   rouge-w\n",
            "f  0.011216  0.190529  0.064057  0.017750  0.227613  0.117660\n",
            "p  0.011571  0.225455  0.074109  0.019018  0.258406  0.187340\n",
            "r  0.012094  0.191118  0.065535  0.018574  0.226967  0.099917\n"
          ],
          "name": "stdout"
        }
      ]
    },
    {
      "cell_type": "code",
      "metadata": {
        "id": "Sr4YAlIxIWEZ"
      },
      "source": [
        ""
      ],
      "execution_count": null,
      "outputs": []
    }
  ]
}