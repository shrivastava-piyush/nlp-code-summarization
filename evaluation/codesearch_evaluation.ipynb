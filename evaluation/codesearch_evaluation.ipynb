{
  "nbformat": 4,
  "nbformat_minor": 0,
  "metadata": {
    "colab": {
      "name": "codesearch_evaluation.ipynb",
      "provenance": [],
      "collapsed_sections": []
    },
    "kernelspec": {
      "name": "python3",
      "display_name": "Python 3"
    }
  },
  "cells": [
    {
      "cell_type": "code",
      "metadata": {
        "id": "aMJOotMAc6m-"
      },
      "source": [
        "import nltk\r\n",
        "import pandas as pd\r\n",
        "\r\n",
        "from nltk.translate.bleu_score import SmoothingFunction"
      ],
      "execution_count": 1,
      "outputs": []
    },
    {
      "cell_type": "code",
      "metadata": {
        "colab": {
          "base_uri": "https://localhost:8080/"
        },
        "id": "aY_PhwupdSMW",
        "outputId": "67bca621-eae3-47b4-a6ce-2d120661ad44"
      },
      "source": [
        "results_list = ['results_codesearch_10k_l1024.csv',\r\n",
        "                'results_codesearch_20k_l500.csv']\r\n",
        "\r\n",
        "for result in results_list:\r\n",
        "  data = pd.read_csv(result, engine='python')\r\n",
        "  data.dropna(inplace=True)\r\n",
        "  hypotheses = data['Predicted comment']\r\n",
        "  references = data['Original Comment']\r\n",
        "  list_of_references = references.tolist()\r\n",
        "  list_of_hypotheses = hypotheses.tolist()\r\n",
        "\r\n",
        "  sentence_based_references = [reference.split(' ') for reference in list_of_references]\r\n",
        "  sentence_based_hypotheses = [hypothesis.split(' ') for hypothesis in list_of_hypotheses]\r\n",
        "  print(\"\\nFile name: \", result)\r\n",
        "\r\n",
        "  bleu_score_c = nltk.translate.bleu_score.corpus_bleu(sentence_based_references, sentence_based_hypotheses)\r\n",
        "  print(\"\\nBleu Score: \", bleu_score_c)"
      ],
      "execution_count": 2,
      "outputs": [
        {
          "output_type": "stream",
          "text": [
            "\n",
            "File name:  results_codesearch_10k_l1024.csv\n"
          ],
          "name": "stdout"
        },
        {
          "output_type": "stream",
          "text": [
            "/usr/local/lib/python3.6/dist-packages/nltk/translate/bleu_score.py:490: UserWarning: \n",
            "Corpus/Sentence contains 0 counts of 2-gram overlaps.\n",
            "BLEU scores might be undesirable; use SmoothingFunction().\n",
            "  warnings.warn(_msg)\n"
          ],
          "name": "stderr"
        },
        {
          "output_type": "stream",
          "text": [
            "\n",
            "Bleu Score:  0.48656330007712867\n",
            "\n",
            "File name:  results_codesearch_20k_l500.csv\n",
            "\n",
            "Bleu Score:  0.07805286034536688\n"
          ],
          "name": "stdout"
        },
        {
          "output_type": "stream",
          "text": [
            "/usr/local/lib/python3.6/dist-packages/nltk/translate/bleu_score.py:490: UserWarning: \n",
            "Corpus/Sentence contains 0 counts of 3-gram overlaps.\n",
            "BLEU scores might be undesirable; use SmoothingFunction().\n",
            "  warnings.warn(_msg)\n"
          ],
          "name": "stderr"
        }
      ]
    },
    {
      "cell_type": "code",
      "metadata": {
        "colab": {
          "base_uri": "https://localhost:8080/"
        },
        "id": "tnPHjiDqdWqF",
        "outputId": "2153b8cd-cc17-4185-892f-0ab57b8e3e20"
      },
      "source": [
        "bleu_list = []\r\n",
        "for result in results_list:\r\n",
        "  data = pd.read_csv(result, engine='python')\r\n",
        "  data.dropna(inplace=True)\r\n",
        "\r\n",
        "  hypotheses = data['Predicted comment']\r\n",
        "  references = data['Original Comment']\r\n",
        "\r\n",
        "  list_of_references = references.tolist()\r\n",
        "  list_of_hypotheses = hypotheses.tolist()\r\n",
        "\r\n",
        "  sentence_based_references = [reference.split(' ') for reference in list_of_references]\r\n",
        "  sentence_based_hypotheses = [hypothesis.split(' ') for hypothesis in list_of_hypotheses]\r\n",
        "  print(\"\\nFile name: \", result)\r\n",
        "\r\n",
        "  sm_fn = SmoothingFunction().method4\r\n",
        "  bleu_score_c = nltk.translate.bleu_score.corpus_bleu(list_of_references, list_of_hypotheses, smoothing_function=sm_fn)\r\n",
        "  bleu_list.append(bleu_score_c)\r\n",
        "  print(\"\\nCorpus-level Bleu Score: \", bleu_score_c)"
      ],
      "execution_count": null,
      "outputs": [
        {
          "output_type": "stream",
          "text": [
            "\n",
            "File name:  results_codesearch_10k_l1024.csv\n",
            "\n",
            "Corpus-level Bleu Score:  0.2482831583760939\n",
            "\n",
            "File name:  results_codesearch_20k_l500.csv\n",
            "\n",
            "Corpus-level Bleu Score:  0.2705337057188038\n"
          ],
          "name": "stdout"
        }
      ]
    },
    {
      "cell_type": "code",
      "metadata": {
        "colab": {
          "base_uri": "https://localhost:8080/",
          "height": 312
        },
        "id": "mhVyxxxMdXbp",
        "outputId": "f2c59c5e-36c1-46f5-ab2a-3c8aad6efb90"
      },
      "source": [
        "import matplotlib.pyplot as plt\r\n",
        "\r\n",
        "x1 = ['10k:python', '20k:python']\r\n",
        "y1 = [bleu*100 for bleu in bleu_list]\r\n",
        "\r\n",
        "plt.bar(x1, y1, color='c', align='center', width=0.3)\r\n",
        "plt.plot()\r\n",
        "\r\n",
        "plt.xlabel(\"Codesearch Dataset\")\r\n",
        "plt.ylabel(\"Bleu score\")\r\n",
        "plt.title(\"Plot for Bleu scores\")\r\n",
        "plt.legend()\r\n",
        "plt.show()"
      ],
      "execution_count": null,
      "outputs": [
        {
          "output_type": "stream",
          "text": [
            "No handles with labels found to put in legend.\n"
          ],
          "name": "stderr"
        },
        {
          "output_type": "display_data",
          "data": {
            "image/png": "[encoded data removed]",
            "text/plain": [
              "<Figure size 432x288 with 1 Axes>"
            ]
          },
          "metadata": {
            "tags": [],
            "needs_background": "light"
          }
        }
      ]
    },
    {
      "cell_type": "code",
      "metadata": {
        "id": "quzEWiBjehmu",
        "colab": {
          "base_uri": "https://localhost:8080/"
        },
        "outputId": "cf909bad-b663-4c45-eba4-2b027318f436"
      },
      "source": [
        "!pip install py-rouge\r\n",
        "\r\n",
        "import rouge\r\n",
        "import nltk\r\n",
        "nltk.download('punkt')\r\n",
        "\r\n",
        "#reference: https://pypi.org/project/py-rouge/\r\n",
        "def prepare_results(p, r, f):\r\n",
        "    return '\\t{}:\\t{}: {:5.2f}\\t{}: {:5.2f}\\t{}: {:5.2f}'.format(metric, 'P', 100.0 * p, 'R', 100.0 * r, 'F1', 100.0 * f)\r\n",
        "\r\n",
        "print('Evaluation with {}'.format('Avg'))\r\n",
        "apply_avg = 'Avg'\r\n",
        "\r\n",
        "evaluator = rouge.Rouge(metrics=['rouge-n', 'rouge-l', 'rouge-w'],\r\n",
        "                           max_n=4,\r\n",
        "                           limit_length=True,\r\n",
        "                           length_limit=300,\r\n",
        "                           length_limit_type='words',\r\n",
        "                           apply_avg=apply_avg,\r\n",
        "                           alpha=0.5, # Default F1_score\r\n",
        "                           weight_factor=1.2,\r\n",
        "                           stemming=True)\r\n",
        "\r\n",
        "for result in results_list:\r\n",
        "    data = pd.read_csv(result, engine='python')\r\n",
        "    data.dropna(inplace=True)\r\n",
        "    hypotheses = data['Predicted comment']\r\n",
        "    references = data['Original Comment']\r\n",
        "\r\n",
        "    all_hypothesis = hypotheses.tolist()\r\n",
        "    all_references = references.tolist()\r\n",
        "\r\n",
        "    scores = evaluator.get_scores(all_hypothesis, all_references)\r\n",
        "\r\n",
        "    print(\"\\n\\nScores for \", result)\r\n",
        "    data_scores = pd.DataFrame.from_dict(scores)\r\n",
        "    print(data_scores.head())"
      ],
      "execution_count": 12,
      "outputs": [
        {
          "output_type": "stream",
          "text": [
            "Requirement already satisfied: py-rouge in /usr/local/lib/python3.6/dist-packages (1.1)\n",
            "[nltk_data] Downloading package punkt to /root/nltk_data...\n",
            "[nltk_data]   Package punkt is already up-to-date!\n",
            "Evaluation with Avg\n",
            "\n",
            "\n",
            "Scores for  results_codesearch_10k_l1024.csv\n",
            "    rouge-4   rouge-1   rouge-3   rouge-2   rouge-l   rouge-w\n",
            "f  0.002633  0.089849  0.004890  0.014860  0.116724  0.056803\n",
            "p  0.003888  0.129607  0.007381  0.022234  0.150429  0.107546\n",
            "r  0.002964  0.100556  0.005415  0.016599  0.127572  0.056551\n",
            "\n",
            "\n",
            "Scores for  results_codesearch_20k_l500.csv\n",
            "    rouge-4   rouge-1   rouge-3   rouge-2   rouge-l   rouge-w\n",
            "f  0.282447  0.551903  0.335207  0.411199  0.583354  0.360011\n",
            "p  0.303727  0.598208  0.360461  0.442354  0.622122  0.530131\n",
            "r  0.280454  0.547678  0.331801  0.407101  0.577696  0.293001\n"
          ],
          "name": "stdout"
        }
      ]
    },
    {
      "cell_type": "code",
      "metadata": {
        "id": "7kdx8aD4kbUO"
      },
      "source": [
        ""
      ],
      "execution_count": null,
      "outputs": []
    }
  ]
}