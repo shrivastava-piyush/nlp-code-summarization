{
  "nbformat": 4,
  "nbformat_minor": 0,
  "metadata": {
    "colab": {
      "name": "funcom_evaluation.ipynb",
      "provenance": []
    },
    "kernelspec": {
      "name": "python3",
      "display_name": "Python 3"
    }
  },
  "cells": [
    {
      "cell_type": "code",
      "metadata": {
        "id": "Vy4EWIio1B2d"
      },
      "source": [
        "import nltk\r\n",
        "import pandas as pd\r\n",
        "\r\n",
        "from nltk.translate.bleu_score import SmoothingFunction"
      ],
      "execution_count": 2,
      "outputs": []
    },
    {
      "cell_type": "markdown",
      "metadata": {
        "id": "VhKvQP6IyPKb"
      },
      "source": [
        "**Bleu scores without smoothing:**"
      ]
    },
    {
      "cell_type": "code",
      "metadata": {
        "colab": {
          "base_uri": "https://localhost:8080/"
        },
        "id": "TiURgpAGtkPk",
        "outputId": "da15b43e-4f37-4513-8608-f5127b8cba25"
      },
      "source": [
        "results_list = ['results_20k_filtered_l500_e50.csv',\r\n",
        "                'results_20k_tokenized_l500_b64.csv',\r\n",
        "                'results_30k_tokenized_l500_b64.csv',\r\n",
        "                'results_60k_tokenized_l500_e50.csv']\r\n",
        "\r\n",
        "for result in results_list:\r\n",
        "  data = pd.read_csv(result)\r\n",
        "  hypotheses = data['Predicted comment']\r\n",
        "  references = data['Original Comment']\r\n",
        "  list_of_references = references.tolist()\r\n",
        "  list_of_hypotheses = hypotheses.tolist()\r\n",
        "\r\n",
        "  sentence_based_references = [reference.split(' ') for reference in list_of_references]\r\n",
        "  sentence_based_hypotheses = [hypothesis.split(' ') for hypothesis in list_of_hypotheses]\r\n",
        "  print(\"\\nFile name: \", result)\r\n",
        "\r\n",
        "  bleu_score_c = nltk.translate.bleu_score.corpus_bleu(sentence_based_references, sentence_based_hypotheses)\r\n",
        "  print(\"\\nBleu Score: \", bleu_score_c)"
      ],
      "execution_count": 9,
      "outputs": [
        {
          "output_type": "stream",
          "text": [
            "\n",
            "File name:  results_20k_filtered_l500_e50.csv\n"
          ],
          "name": "stdout"
        },
        {
          "output_type": "stream",
          "text": [
            "/usr/local/lib/python3.6/dist-packages/nltk/translate/bleu_score.py:490: UserWarning: \n",
            "Corpus/Sentence contains 0 counts of 3-gram overlaps.\n",
            "BLEU scores might be undesirable; use SmoothingFunction().\n",
            "  warnings.warn(_msg)\n"
          ],
          "name": "stderr"
        },
        {
          "output_type": "stream",
          "text": [
            "\n",
            "Bleu Score:  0.05713205093790273\n",
            "\n",
            "File name:  results_20k_tokenized_l500_b64.csv\n"
          ],
          "name": "stdout"
        },
        {
          "output_type": "stream",
          "text": [
            "/usr/local/lib/python3.6/dist-packages/nltk/translate/bleu_score.py:490: UserWarning: \n",
            "Corpus/Sentence contains 0 counts of 2-gram overlaps.\n",
            "BLEU scores might be undesirable; use SmoothingFunction().\n",
            "  warnings.warn(_msg)\n"
          ],
          "name": "stderr"
        },
        {
          "output_type": "stream",
          "text": [
            "\n",
            "Bleu Score:  0.42635675627942693\n",
            "\n",
            "File name:  results_30k_tokenized_l500_b64.csv\n",
            "\n",
            "Bleu Score:  0.4234169047388888\n",
            "\n",
            "File name:  results_60k_tokenized_l500_e50.csv\n",
            "\n",
            "Bleu Score:  0.4168127493746392\n"
          ],
          "name": "stdout"
        }
      ]
    },
    {
      "cell_type": "markdown",
      "metadata": {
        "id": "kTTLAA0ayYOT"
      },
      "source": [
        "**Bleu scores with smoothing:**"
      ]
    },
    {
      "cell_type": "code",
      "metadata": {
        "colab": {
          "base_uri": "https://localhost:8080/"
        },
        "id": "OujZ5C5CvJma",
        "outputId": "2f397b0e-c310-4895-ace9-6e5c4e002e40"
      },
      "source": [
        "bleu_list = []\r\n",
        "for result in results_list:\r\n",
        "  data = pd.read_csv(result)\r\n",
        "  hypotheses = data['Predicted comment']\r\n",
        "  references = data['Original Comment']\r\n",
        "\r\n",
        "  list_of_references = references.tolist()\r\n",
        "  list_of_hypotheses = hypotheses.tolist()\r\n",
        "\r\n",
        "  sentence_based_references = [reference.split(' ') for reference in list_of_references]\r\n",
        "  sentence_based_hypotheses = [hypothesis.split(' ') for hypothesis in list_of_hypotheses]\r\n",
        "  print(\"\\nFile name: \", result)\r\n",
        "\r\n",
        "  sm_fn = SmoothingFunction().method4\r\n",
        "  bleu_score_c = nltk.translate.bleu_score.corpus_bleu(list_of_references, list_of_hypotheses, smoothing_function=sm_fn)\r\n",
        "  bleu_list.append(bleu_score_c)\r\n",
        "  print(\"\\nCorpus-level Bleu Score: \", bleu_score_c)"
      ],
      "execution_count": null,
      "outputs": [
        {
          "output_type": "stream",
          "text": [
            "\n",
            "File name:  results_20k_filtered_l500_e50.csv\n",
            "\n",
            "Corpus-level Bleu Score:  0.27889452010804583\n",
            "\n",
            "File name:  results_20k_tokenized_l500_b64.csv\n",
            "\n",
            "Corpus-level Bleu Score:  0.2953094957791\n",
            "\n",
            "File name:  results_30k_tokenized_l500_b64.csv\n",
            "\n",
            "Corpus-level Bleu Score:  0.30446447843101304\n",
            "\n",
            "File name:  results_60k_tokenized_l500_e50.csv\n",
            "\n",
            "Corpus-level Bleu Score:  0.27729888864725116\n"
          ],
          "name": "stdout"
        }
      ]
    },
    {
      "cell_type": "code",
      "metadata": {
        "colab": {
          "base_uri": "https://localhost:8080/",
          "height": 312
        },
        "id": "Wlw_bZ-W1agv",
        "outputId": "fb733d8c-455c-4082-fefb-315afd5bf31a"
      },
      "source": [
        "import matplotlib.pyplot as plt\r\n",
        "\r\n",
        "x1 = ['20k:Filtered', '20k:Tokenized', '30k:Tokenized', '60k:Tokenized']\r\n",
        "y1 = [bleu*100 for bleu in bleu_list]\r\n",
        "\r\n",
        "plt.bar(x1, y1, color='c', align='center', width=0.3)\r\n",
        "plt.plot()\r\n",
        "\r\n",
        "plt.xlabel(\"Funcom Dataset\")\r\n",
        "plt.ylabel(\"Bleu score\")\r\n",
        "plt.title(\"Plot for Bleu scores\")\r\n",
        "plt.legend()\r\n",
        "plt.show()"
      ],
      "execution_count": null,
      "outputs": [
        {
          "output_type": "stream",
          "text": [
            "No handles with labels found to put in legend.\n"
          ],
          "name": "stderr"
        },
        {
          "output_type": "display_data",
          "data": {
            "image/png": "[encoded data removed]",
            "text/plain": [
              "<Figure size 432x288 with 1 Axes>"
            ]
          },
          "metadata": {
            "tags": [],
            "needs_background": "light"
          }
        }
      ]
    },
    {
      "cell_type": "markdown",
      "metadata": {
        "id": "ohc_jTXWgYgQ"
      },
      "source": [
        "**Meteor scores:**"
      ]
    },
    {
      "cell_type": "code",
      "metadata": {
        "id": "y8jsi5Ig8zkH",
        "colab": {
          "base_uri": "https://localhost:8080/"
        },
        "outputId": "8fd45ce1-b797-4e98-9b89-09ba3bbb0a47"
      },
      "source": [
        "!pip install py-rouge"
      ],
      "execution_count": 7,
      "outputs": [
        {
          "output_type": "stream",
          "text": [
            "Requirement already satisfied: py-rouge in /usr/local/lib/python3.6/dist-packages (1.1)\n"
          ],
          "name": "stdout"
        }
      ]
    },
    {
      "cell_type": "code",
      "metadata": {
        "id": "Rs1GM9Lpgqz2",
        "colab": {
          "base_uri": "https://localhost:8080/"
        },
        "outputId": "31f20422-7433-4663-ffb0-a9fa1d9cf67a"
      },
      "source": [
        "import rouge\r\n",
        "import nltk\r\n",
        "nltk.download('punkt')\r\n",
        "\r\n",
        "#reference: https://pypi.org/project/py-rouge/\r\n",
        "def prepare_results(p, r, f):\r\n",
        "    return '\\t{}:\\t{}: {:5.2f}\\t{}: {:5.2f}\\t{}: {:5.2f}'.format(metric, 'P', 100.0 * p, 'R', 100.0 * r, 'F1', 100.0 * f)\r\n",
        "\r\n",
        "for aggregator in ['Avg', 'Best', 'Individual']:\r\n",
        "    print('Evaluation with {}'.format(aggregator))\r\n",
        "    apply_avg = aggregator == 'Avg'\r\n",
        "    apply_best = aggregator == 'Best'\r\n",
        "\r\n",
        "    evaluator = rouge.Rouge(metrics=['rouge-n', 'rouge-l', 'rouge-w'],\r\n",
        "                           max_n=4,\r\n",
        "                           limit_length=True,\r\n",
        "                           length_limit=100,\r\n",
        "                           length_limit_type='words',\r\n",
        "                           apply_avg=apply_avg,\r\n",
        "                           apply_best=apply_best,\r\n",
        "                           alpha=0.5, # Default F1_score\r\n",
        "                           weight_factor=1.2,\r\n",
        "                           stemming=True)\r\n",
        "\r\n",
        "    for result in results_list:\r\n",
        "      data = pd.read_csv(result)\r\n",
        "      hypotheses = data['Predicted comment']\r\n",
        "      references = data['Original Comment']\r\n",
        "\r\n",
        "      all_hypothesis = hypotheses.tolist()\r\n",
        "      all_references = references.tolist()\r\n",
        "\r\n",
        "      scores = evaluator.get_scores(all_hypothesis, all_references)\r\n",
        "\r\n",
        "      print(\"\\n\\nScores for \", result)\r\n",
        "      data_scores = pd.DataFrame.from_dict(scores)\r\n",
        "      print(data_scores.head())"
      ],
      "execution_count": 21,
      "outputs": [
        {
          "output_type": "stream",
          "text": [
            "[nltk_data] Downloading package punkt to /root/nltk_data...\n",
            "[nltk_data]   Package punkt is already up-to-date!\n",
            "Evaluation with Avg\n",
            "\n",
            "\n",
            "Scores for  results_20k_filtered_l500_e50.csv\n",
            "    rouge-2   rouge-1   rouge-3   rouge-4   rouge-l   rouge-w\n",
            "f  0.206821  0.365112  0.149201  0.122394  0.392163  0.223614\n",
            "p  0.228766  0.421889  0.160378  0.130648  0.437701  0.346327\n",
            "r  0.209882  0.378891  0.148822  0.121395  0.403164  0.192304\n",
            "\n",
            "\n",
            "Scores for  results_20k_tokenized_l500_b64.csv\n",
            "    rouge-2   rouge-1   rouge-3   rouge-4   rouge-l   rouge-w\n",
            "f  0.231754  0.411554  0.160793  0.127724  0.447659  0.307128\n",
            "p  0.240033  0.429835  0.165380  0.130638  0.462114  0.395520\n",
            "r  0.238873  0.424528  0.163998  0.128655  0.458375  0.271544\n",
            "\n",
            "\n",
            "Scores for  results_30k_tokenized_l500_b64.csv\n",
            "    rouge-2   rouge-1   rouge-3   rouge-4   rouge-l   rouge-w\n",
            "f  0.202988  0.393215  0.123508  0.090495  0.429414  0.287109\n",
            "p  0.214553  0.418716  0.129157  0.094222  0.450406  0.379475\n",
            "r  0.208519  0.400833  0.124328  0.089865  0.434971  0.251418\n",
            "\n",
            "\n",
            "Scores for  results_60k_tokenized_l500_e50.csv\n",
            "    rouge-2   rouge-1   rouge-3   rouge-4   rouge-l   rouge-w\n",
            "f  0.199053  0.392098  0.117750  0.086564  0.431462  0.286207\n",
            "p  0.221561  0.435232  0.128413  0.092795  0.468631  0.397115\n",
            "r  0.197201  0.387597  0.117182  0.084802  0.425109  0.244017\n",
            "Evaluation with Best\n",
            "\n",
            "\n",
            "Scores for  results_20k_filtered_l500_e50.csv\n",
            "    rouge-2   rouge-1   rouge-3   rouge-4   rouge-l   rouge-w\n",
            "f  0.206821  0.365112  0.149201  0.122394  0.392163  0.223614\n",
            "p  0.228766  0.421889  0.160378  0.130648  0.437701  0.346327\n",
            "r  0.209882  0.378891  0.148822  0.121395  0.403164  0.192304\n",
            "\n",
            "\n",
            "Scores for  results_20k_tokenized_l500_b64.csv\n",
            "    rouge-2   rouge-1   rouge-3   rouge-4   rouge-l   rouge-w\n",
            "f  0.231754  0.411554  0.160793  0.127724  0.447659  0.307128\n",
            "p  0.240033  0.429835  0.165380  0.130638  0.462114  0.395520\n",
            "r  0.238873  0.424528  0.163998  0.128655  0.458375  0.271544\n",
            "\n",
            "\n",
            "Scores for  results_30k_tokenized_l500_b64.csv\n",
            "    rouge-2   rouge-1   rouge-3   rouge-4   rouge-l   rouge-w\n",
            "f  0.202988  0.393215  0.123508  0.090495  0.429414  0.287109\n",
            "p  0.214553  0.418716  0.129157  0.094222  0.450406  0.379475\n",
            "r  0.208519  0.400833  0.124328  0.089865  0.434971  0.251418\n",
            "\n",
            "\n",
            "Scores for  results_60k_tokenized_l500_e50.csv\n",
            "    rouge-2   rouge-1   rouge-3   rouge-4   rouge-l   rouge-w\n",
            "f  0.199053  0.392098  0.117750  0.086564  0.431462  0.286207\n",
            "p  0.221561  0.435232  0.128413  0.092795  0.468631  0.397115\n",
            "r  0.197201  0.387597  0.117182  0.084802  0.425109  0.244017\n",
            "Evaluation with Individual\n",
            "\n",
            "\n",
            "Scores for  results_20k_filtered_l500_e50.csv\n",
            "                                             rouge-2  ...                                            rouge-w\n",
            "0  {'f': [0.11764705882352941], 'p': [0.102564102...  ...  {'f': [0.15843330293529637], 'p': [0.196517727...\n",
            "1  {'f': [0.5833333333333334], 'p': [0.6363636363...  ...  {'f': [0.5101590053142643], 'p': [0.7595641548...\n",
            "2  {'f': [0.9473684210526316], 'p': [1.0], 'r': [...  ...  {'f': [0.6024954691848129], 'p': [0.9640741241...\n",
            "3  {'f': [0.041666666666666664], 'p': [0.03448275...  ...  {'f': [0.12082965426948035], 'p': [0.133740874...\n",
            "4  {'f': [0.39999999999999997], 'p': [0.428571428...  ...  {'f': [0.46269973833754785], 'p': [0.635246548...\n",
            "\n",
            "[5 rows x 6 columns]\n",
            "\n",
            "\n",
            "Scores for  results_20k_tokenized_l500_b64.csv\n",
            "                                             rouge-2  ...                                            rouge-w\n",
            "0               {'f': [0.0], 'p': [0.0], 'r': [0.0]}  ...               {'f': [0.0], 'p': [0.0], 'r': [0.0]}\n",
            "1  {'f': [0.2222222222222222], 'p': [0.1666666666...  ...  {'f': [0.3257851190056723], 'p': [0.2857142857...\n",
            "2  {'f': [0.3333333333333333], 'p': [0.3333333333...  ...  {'f': [0.43112592776921604], 'p': [0.5], 'r': ...\n",
            "3  {'f': [0.18181818181818182], 'p': [0.333333333...  ...  {'f': [0.300866050148282], 'p': [0.67569287937...\n",
            "4  {'f': [0.1818181818181818], 'p': [0.5], 'r': [...  ...  {'f': [0.21221361592256494], 'p': [0.666666666...\n",
            "\n",
            "[5 rows x 6 columns]\n",
            "\n",
            "\n",
            "Scores for  results_30k_tokenized_l500_b64.csv\n",
            "                                             rouge-2  ...                                            rouge-w\n",
            "0  {'f': [0.6666666666666666], 'p': [0.6666666666...  ...  {'f': [0.6466888916538241], 'p': [0.75], 'r': ...\n",
            "1  {'f': [0.28571428571428575], 'p': [0.2], 'r': ...  ...  {'f': [0.4107960142535035], 'p': [0.3333333333...\n",
            "2  {'f': [0.6666666666666665], 'p': [0.75], 'r': ...  ...  {'f': [0.588849495028216], 'p': [0.8], 'r': [0...\n",
            "3  {'f': [0.37499999999999994], 'p': [0.6], 'r': ...  ...  {'f': [0.3477074697189099], 'p': [0.7453985243...\n",
            "4               {'f': [0.0], 'p': [0.0], 'r': [0.0]}  ...  {'f': [0.26838276699057717], 'p': [0.222724679...\n",
            "\n",
            "[5 rows x 6 columns]\n",
            "\n",
            "\n",
            "Scores for  results_60k_tokenized_l500_e50.csv\n",
            "                                             rouge-2  ...                                            rouge-w\n",
            "0               {'f': [0.0], 'p': [0.0], 'r': [0.0]}  ...               {'f': [0.0], 'p': [0.0], 'r': [0.0]}\n",
            "1  {'f': [0.25], 'p': [0.5], 'r': [0.166666666666...  ...  {'f': [0.30006574145216347], 'p': [0.666666666...\n",
            "2               {'f': [1.0], 'p': [1.0], 'r': [1.0]}  ...  {'f': [0.7647030605845161], 'p': [1.0], 'r': [...\n",
            "3               {'f': [0.0], 'p': [0.0], 'r': [0.0]}  ...               {'f': [0.0], 'p': [0.0], 'r': [0.0]}\n",
            "4         {'f': [0.625], 'p': [0.625], 'r': [0.625]}  ...  {'f': [0.6206566571073928], 'p': [0.7919099716...\n",
            "\n",
            "[5 rows x 6 columns]\n"
          ],
          "name": "stdout"
        }
      ]
    },
    {
      "cell_type": "code",
      "metadata": {
        "id": "Wu9CCjYvenim"
      },
      "source": [
        ""
      ],
      "execution_count": null,
      "outputs": []
    }
  ]
}