{
 "cells": [
  {
   "cell_type": "code",
   "execution_count": 1,
   "metadata": {
    "id": "CXjQUi8mxQxu"
   },
   "outputs": [],
   "source": [
    "import json\n",
    "from pathlib import Path\n",
    "import pandas as pd"
   ]
  },
  {
   "cell_type": "markdown",
   "metadata": {
    "id": "ZTpgNw6A4sFe"
   },
   "source": [
    "**Python code-comment dataset from CodeSearchNet challenge**"
   ]
  },
  {
   "cell_type": "code",
   "execution_count": 4,
   "metadata": {
    "colab": {
     "base_uri": "https://localhost:8080/"
    },
    "id": "WMpjYUQrzxHX",
    "outputId": "0ab5497e-cbe5-4b00-ee44-79cd81bef869"
   },
   "outputs": [
    {
     "name": "stdout",
     "output_type": "stream",
     "text": [
      "--2020-11-27 03:49:11--  https://s3.amazonaws.com/code-search-net/CodeSearchNet/v2/python.zip\n",
      "Resolving s3.amazonaws.com (s3.amazonaws.com)... 52.217.46.254\n",
      "Connecting to s3.amazonaws.com (s3.amazonaws.com)|52.217.46.254|:443... connected.\n",
      "HTTP request sent, awaiting response... 200 OK\n",
      "Length: 940909997 (897M) [application/zip]\n",
      "Saving to: ‘python.zip’\n",
      "\n",
      "python.zip          100%[===================>] 897.32M  3.59MB/s    in 2m 52s  \n",
      "\n",
      "2020-11-27 03:52:04 (5.21 MB/s) - ‘python.zip’ saved [940909997/940909997]\n",
      "\n",
      "Archive:  python.zip\n",
      "   creating: python/\n",
      "   creating: python/final/\n",
      "   creating: python/final/jsonl/\n",
      "   creating: python/final/jsonl/train/\n",
      "  inflating: python/final/jsonl/train/python_train_9.jsonl.gz  \n",
      "  inflating: python/final/jsonl/train/python_train_12.jsonl.gz  \n",
      "  inflating: python/final/jsonl/train/python_train_10.jsonl.gz  \n",
      "  inflating: python/final/jsonl/train/python_train_0.jsonl.gz  \n",
      "  inflating: python/final/jsonl/train/python_train_6.jsonl.gz  \n",
      "  inflating: python/final/jsonl/train/python_train_2.jsonl.gz  \n",
      "  inflating: python/final/jsonl/train/python_train_4.jsonl.gz  \n",
      "  inflating: python/final/jsonl/train/python_train_8.jsonl.gz  \n",
      "  inflating: python/final/jsonl/train/python_train_11.jsonl.gz  \n",
      "  inflating: python/final/jsonl/train/python_train_5.jsonl.gz  \n",
      "  inflating: python/final/jsonl/train/python_train_13.jsonl.gz  \n",
      "  inflating: python/final/jsonl/train/python_train_3.jsonl.gz  \n",
      "  inflating: python/final/jsonl/train/python_train_1.jsonl.gz  \n",
      "  inflating: python/final/jsonl/train/python_train_7.jsonl.gz  \n",
      "   creating: python/final/jsonl/test/\n",
      "  inflating: python/final/jsonl/test/python_test_0.jsonl.gz  \n",
      "   creating: python/final/jsonl/valid/\n",
      "  inflating: python/final/jsonl/valid/python_valid_0.jsonl.gz  \n",
      "  inflating: python_dedupe_definitions_v2.pkl  \n",
      "  inflating: python_licenses.pkl     \n"
     ]
    }
   ],
   "source": [
    "!wget https://s3.amazonaws.com/code-search-net/CodeSearchNet/v2/python.zip\n",
    "!unzip python.zip\n",
    "!gzip -d python/final/jsonl/test/python_test_0.jsonl.gz"
   ]
  },
  {
   "cell_type": "code",
   "execution_count": 12,
   "metadata": {
    "colab": {
     "base_uri": "https://localhost:8080/",
     "height": 568
    },
    "id": "CBeDLrsuz0eP",
    "outputId": "ff438ebb-fc53-4f90-9d13-a70a54e47c35"
   },
   "outputs": [
    {
     "data": {
      "text/html": [
       "<div>\n",
       "<style scoped>\n",
       "    .dataframe tbody tr th:only-of-type {\n",
       "        vertical-align: middle;\n",
       "    }\n",
       "\n",
       "    .dataframe tbody tr th {\n",
       "        vertical-align: top;\n",
       "    }\n",
       "\n",
       "    .dataframe thead th {\n",
       "        text-align: right;\n",
       "    }\n",
       "</style>\n",
       "<table border=\"1\" class=\"dataframe\">\n",
       "  <thead>\n",
       "    <tr style=\"text-align: right;\">\n",
       "      <th></th>\n",
       "      <th>repo</th>\n",
       "      <th>path</th>\n",
       "      <th>url</th>\n",
       "      <th>code</th>\n",
       "      <th>code_tokens</th>\n",
       "      <th>docstring</th>\n",
       "      <th>docstring_tokens</th>\n",
       "      <th>language</th>\n",
       "      <th>partition</th>\n",
       "    </tr>\n",
       "  </thead>\n",
       "  <tbody>\n",
       "    <tr>\n",
       "      <th>0</th>\n",
       "      <td>ageitgey/face_recognition</td>\n",
       "      <td>examples/face_recognition_knn.py</td>\n",
       "      <td>https://github.com/ageitgey/face_recognition/b...</td>\n",
       "      <td>def train(train_dir, model_save_path=None, n_n...</td>\n",
       "      <td>[def, train, (, train_dir, ,, model_save_path,...</td>\n",
       "      <td>Trains a k-nearest neighbors classifier for fa...</td>\n",
       "      <td>[Trains, a, k, -, nearest, neighbors, classifi...</td>\n",
       "      <td>python</td>\n",
       "      <td>train</td>\n",
       "    </tr>\n",
       "    <tr>\n",
       "      <th>1</th>\n",
       "      <td>ageitgey/face_recognition</td>\n",
       "      <td>examples/face_recognition_knn.py</td>\n",
       "      <td>https://github.com/ageitgey/face_recognition/b...</td>\n",
       "      <td>def predict(X_img_path, knn_clf=None, model_pa...</td>\n",
       "      <td>[def, predict, (, X_img_path, ,, knn_clf, =, N...</td>\n",
       "      <td>Recognizes faces in given image using a traine...</td>\n",
       "      <td>[Recognizes, faces, in, given, image, using, a...</td>\n",
       "      <td>python</td>\n",
       "      <td>train</td>\n",
       "    </tr>\n",
       "    <tr>\n",
       "      <th>2</th>\n",
       "      <td>ageitgey/face_recognition</td>\n",
       "      <td>examples/face_recognition_knn.py</td>\n",
       "      <td>https://github.com/ageitgey/face_recognition/b...</td>\n",
       "      <td>def show_prediction_labels_on_image(img_path, ...</td>\n",
       "      <td>[def, show_prediction_labels_on_image, (, img_...</td>\n",
       "      <td>Shows the face recognition results visually.\\n...</td>\n",
       "      <td>[Shows, the, face, recognition, results, visua...</td>\n",
       "      <td>python</td>\n",
       "      <td>train</td>\n",
       "    </tr>\n",
       "    <tr>\n",
       "      <th>3</th>\n",
       "      <td>ageitgey/face_recognition</td>\n",
       "      <td>face_recognition/api.py</td>\n",
       "      <td>https://github.com/ageitgey/face_recognition/b...</td>\n",
       "      <td>def _rect_to_css(rect):\\n    \"\"\"\\n    Convert ...</td>\n",
       "      <td>[def, _rect_to_css, (, rect, ), :, return, rec...</td>\n",
       "      <td>Convert a dlib 'rect' object to a plain tuple ...</td>\n",
       "      <td>[Convert, a, dlib, rect, object, to, a, plain,...</td>\n",
       "      <td>python</td>\n",
       "      <td>train</td>\n",
       "    </tr>\n",
       "    <tr>\n",
       "      <th>4</th>\n",
       "      <td>ageitgey/face_recognition</td>\n",
       "      <td>face_recognition/api.py</td>\n",
       "      <td>https://github.com/ageitgey/face_recognition/b...</td>\n",
       "      <td>def _trim_css_to_bounds(css, image_shape):\\n  ...</td>\n",
       "      <td>[def, _trim_css_to_bounds, (, css, ,, image_sh...</td>\n",
       "      <td>Make sure a tuple in (top, right, bottom, left...</td>\n",
       "      <td>[Make, sure, a, tuple, in, (, top, right, bott...</td>\n",
       "      <td>python</td>\n",
       "      <td>train</td>\n",
       "    </tr>\n",
       "  </tbody>\n",
       "</table>\n",
       "</div>"
      ],
      "text/plain": [
       "                        repo  ... partition\n",
       "0  ageitgey/face_recognition  ...     train\n",
       "1  ageitgey/face_recognition  ...     train\n",
       "2  ageitgey/face_recognition  ...     train\n",
       "3  ageitgey/face_recognition  ...     train\n",
       "4  ageitgey/face_recognition  ...     train\n",
       "\n",
       "[5 rows x 9 columns]"
      ]
     },
     "execution_count": 12,
     "metadata": {
      "tags": []
     },
     "output_type": "execute_result"
    }
   ],
   "source": [
    "python_files = sorted(Path('python/').glob('**/*.gz'))\n",
    "columns_list = ['repo', 'path', 'url', 'code', \n",
    "                'code_tokens', 'docstring', 'docstring_tokens', \n",
    "                'language', 'partition']\n",
    "\n",
    "# Convert downloaded json files into a dataframe\n",
    "data = pd.concat([pd.read_json(file,\n",
    "                        orient='records',\n",
    "                        compression='gzip',\n",
    "                        lines=True)[columns_list] for file in python_files],\n",
    "                        sort=False)\n",
    "\n",
    "data.head(5)"
   ]
  },
  {
   "cell_type": "code",
   "execution_count": 14,
   "metadata": {
    "colab": {
     "base_uri": "https://localhost:8080/"
    },
    "id": "bU9w_4gh12dp",
    "outputId": "d54743e4-a8bd-4d00-a49a-ad78d9ac023c"
   },
   "outputs": [
    {
     "name": "stdout",
     "output_type": "stream",
     "text": [
      "--2020-11-27 04:11:26--  https://s3.us-east-2.amazonaws.com/leclair.tech/data/funcom/funcom_tokenized.tar.gz\n",
      "Resolving s3.us-east-2.amazonaws.com (s3.us-east-2.amazonaws.com)... 52.219.88.98\n",
      "Connecting to s3.us-east-2.amazonaws.com (s3.us-east-2.amazonaws.com)|52.219.88.98|:443... connected.\n",
      "HTTP request sent, awaiting response... 200 OK\n",
      "Length: 211020526 (201M) [application/x-tar]\n",
      "Saving to: ‘funcom_tokenized.tar.gz.1’\n",
      "\n",
      "funcom_tokenized.ta 100%[===================>] 201.24M  96.0MB/s    in 2.1s    \n",
      "\n",
      "2020-11-27 04:11:28 (96.0 MB/s) - ‘funcom_tokenized.tar.gz.1’ saved [211020526/211020526]\n",
      "\n",
      "funcom_tokenized\t   python_dedupe_definitions_v2.pkl  python.zip.2\n",
      "funcom_tokenized.tar.gz    python_licenses.pkl\t\t     python.zip.3\n",
      "funcom_tokenized.tar.gz.1  python.zip\t\t\t     python.zip.4\n",
      "python\t\t\t   python.zip.1\t\t\t     sample_data\n"
     ]
    }
   ],
   "source": [
    "!wget https://s3.us-east-2.amazonaws.com/leclair.tech/data/funcom/funcom_tokenized.tar.gz\n",
    "!tar -xf funcom_tokenized.tar.gz\n"
   ]
  },
  {
   "cell_type": "code",
   "execution_count": 33,
   "metadata": {
    "colab": {
     "base_uri": "https://localhost:8080/"
    },
    "id": "8hTZlTZ15a49",
    "outputId": "28f4b98a-b826-47d9-efc3-e6beb953fa7b"
   },
   "outputs": [
    {
     "name": "stdout",
     "output_type": "stream",
     "text": [
      "Reading package lists... Done\n",
      "Building dependency tree       \n",
      "Reading state information... Done\n",
      "file is already the newest version (1:5.32-2ubuntu0.4).\n",
      "0 upgraded, 0 newly installed, 0 to remove and 14 not upgraded.\n",
      "funcom_tokenized/test/comments.test: ASCII text\n"
     ]
    }
   ],
   "source": [
    "!apt install file\n",
    "!file funcom_tokenized/test/comments.test"
   ]
  },
  {
   "cell_type": "code",
   "execution_count": 42,
   "metadata": {
    "colab": {
     "base_uri": "https://localhost:8080/"
    },
    "id": "3Fw7gnzZ8k6a",
    "outputId": "3f68e982-ef59-4865-dc99-803a876fc61d"
   },
   "outputs": [
    {
     "name": "stdout",
     "output_type": "stream",
     "text": [
      "Preprocessed functions:\n",
      "    Function ID                                           Function\n",
      "0     43226887  public void mouse up final mouse event mouseev...\n",
      "1     43227058                    public int get state return new\n",
      "2     43227061                  public int get state return clean\n",
      "3     43227066           public string get sql command return sql\n",
      "4     43227068  public void set sql command final string sql c...\n",
      "Comments:\n",
      "    Comment ID                                            Comment\n",
      "0    43226887           mouse up of abstract data view ok button\n",
      "1    43227058  returns the state constant value of code new s...\n",
      "2    43227061  returns the state constant value of code clean...\n",
      "3    43227066  this method returns the exact sql command like...\n",
      "4    43227068       this method sets the text of the sql command\n"
     ]
    }
   ],
   "source": [
    "java_functions_data = pd.read_csv('funcom_tokenized/train/functions.train', sep=\"\\t\", header=None, names=['Function ID', 'Function'])\n",
    "print(\"Preprocessed functions:\\n\", java_functions_data.head())\n",
    "\n",
    "java_comments_data = data = pd.read_csv('funcom_tokenized/train/comments.train', sep=\"\\t\", header=None, names=['Comment ID', 'Comment'])\n",
    "print(\"Comments:\\n\", java_comments_data.head())"
   ]
  },
  {
   "cell_type": "code",
   "execution_count": null,
   "metadata": {
    "colab": {
     "base_uri": "https://localhost:8080/",
     "height": 346
    },
    "id": "pU24mpmr9ANr",
    "outputId": "4b192337-5228-41e8-97d0-2c109225bae5"
   },
   "outputs": [
    {
     "name": "stderr",
     "output_type": "stream",
     "text": [
      "WARNING: You are using pip version 20.1.1; however, version 20.2.4 is available.\n",
      "You should consider upgrading via the 'c:\\users\\piyus\\appdata\\local\\programs\\python\\python37\\python.exe -m pip install --upgrade pip' command.\n"
     ]
    },
    {
     "name": "stdout",
     "output_type": "stream",
     "text": [
      "Requirement already satisfied: pydriller in c:\\users\\piyus\\appdata\\local\\programs\\python\\python37\\lib\\site-packages (1.15.3)\n",
      "Requirement already satisfied: lizard in c:\\users\\piyus\\appdata\\local\\programs\\python\\python37\\lib\\site-packages (from pydriller) (1.17.7)\n",
      "Requirement already satisfied: pytz in c:\\users\\piyus\\appdata\\local\\programs\\python\\python37\\lib\\site-packages (from pydriller) (2020.1)\n",
      "Requirement already satisfied: gitpython in c:\\users\\piyus\\appdata\\local\\programs\\python\\python37\\lib\\site-packages (from pydriller) (3.1.11)\n",
      "Requirement already satisfied: gitdb<5,>=4.0.1 in c:\\users\\piyus\\appdata\\local\\programs\\python\\python37\\lib\\site-packages (from gitpython->pydriller) (4.0.5)\n",
      "Requirement already satisfied: smmap<4,>=3.0.1 in c:\\users\\piyus\\appdata\\local\\programs\\python\\python37\\lib\\site-packages (from gitdb<5,>=4.0.1->gitpython->pydriller) (3.0.4)\n"
     ]
    }
   ],
   "source": [
    "!pip install pydriller\n",
    "from pydriller.repository_mining import RepositoryMining\n",
    "\n",
    "messages, code = [], []\n",
    "i = 0\n",
    "for commit in RepositoryMining('https://github.com/torvalds/linux').traverse_commits():\n",
    "  if i > 10:\n",
    "    break\n",
    "  for modified_file in commit.modifications:\n",
    "    messages.append(commit.msg)\n",
    "    code.append(modified_file.source_code)\n",
    "  i += 1\n",
    "\n",
    "linux_data = pd.DataFrame(columns = {'Message': messages, 'Code': code})\n",
    "print(linux_data.head())"
   ]
  },
  {
   "cell_type": "code",
   "execution_count": null,
   "metadata": {
    "id": "YkE2JYfYOaRh"
   },
   "outputs": [],
   "source": []
  }
 ],
 "metadata": {
  "colab": {
   "collapsed_sections": [],
   "name": "data_extraction.ipynb",
   "provenance": []
  },
  "kernelspec": {
   "display_name": "Python 3",
   "language": "python",
   "name": "python3"
  },
  "language_info": {
   "codemirror_mode": {
    "name": "ipython",
    "version": 3
   },
   "file_extension": ".py",
   "mimetype": "text/x-python",
   "name": "python",
   "nbconvert_exporter": "python",
   "pygments_lexer": "ipython3",
   "version": "3.7.0"
  }
 },
 "nbformat": 4,
 "nbformat_minor": 1
}
