{
  "nbformat": 4,
  "nbformat_minor": 0,
  "metadata": {
    "colab": {
      "name": "Pydriller_combine_and shuffle",
      "provenance": []
    },
    "kernelspec": {
      "name": "python3",
      "display_name": "Python 3"
    }
  },
  "cells": [
    {
      "cell_type": "code",
      "metadata": {
        "id": "4lQm6i6PK-rj"
      },
      "source": [
        "import pandas as pd"
      ],
      "execution_count": 3,
      "outputs": []
    },
    {
      "cell_type": "code",
      "metadata": {
        "id": "MOOvsw47Nq9i"
      },
      "source": [
        "list_data = ['pydriller_14k_filtered.csv',\r\n",
        "             'pydriller_40k_tensorflow.csv',\r\n",
        "             'pydriller_6k_filtered.csv']\r\n",
        "\r\n",
        "collective_data = pd.concat([pd.read_csv(data) for data in list_data])"
      ],
      "execution_count": 10,
      "outputs": []
    },
    {
      "cell_type": "code",
      "metadata": {
        "colab": {
          "base_uri": "https://localhost:8080/",
          "height": 195
        },
        "id": "GNg49S2DNoCD",
        "outputId": "830e6f1c-6eff-4e77-c96d-c2e786dd0224"
      },
      "source": [
        "collective_data = collective_data.sample(frac=1).reset_index(drop=True)\r\n",
        "collective_data['Code'] = collective_data['Code'].str.replace('\\n', ' ')\r\n",
        "collective_data['Code'] = collective_data['Code'].str.replace('\\t', ' ')\r\n",
        "collective_data['Code'] = collective_data['Code'].str.replace(r' +', ' ')\r\n",
        "collective_data['Code'] = collective_data['Code'].str.replace(r'\"\"\".*?\"\"\"', ' ')\r\n",
        "\r\n",
        "collective_data['Message'] = collective_data['Message'].str.replace(r'\\d+', '')\r\n",
        "collective_data['Message'] = collective_data['Message'].str.replace('\\n', ' ')\r\n",
        "collective_data['Message'] = collective_data['Message'].str.replace(r' +', ' ')\r\n",
        "collective_data['Message'] = collective_data['Message'].str.replace('\\t', ' ')\r\n",
        "\r\n",
        "collective_data = collective_data[collective_data['Message'].str.len() < 300]\r\n",
        "collective_data = collective_data[['Code', 'Message']]\r\n",
        "collective_data.head()"
      ],
      "execution_count": 26,
      "outputs": [
        {
          "output_type": "execute_result",
          "data": {
            "text/html": [
              "<div>\n",
              "<style scoped>\n",
              "    .dataframe tbody tr th:only-of-type {\n",
              "        vertical-align: middle;\n",
              "    }\n",
              "\n",
              "    .dataframe tbody tr th {\n",
              "        vertical-align: top;\n",
              "    }\n",
              "\n",
              "    .dataframe thead th {\n",
              "        text-align: right;\n",
              "    }\n",
              "</style>\n",
              "<table border=\"1\" class=\"dataframe\">\n",
              "  <thead>\n",
              "    <tr style=\"text-align: right;\">\n",
              "      <th></th>\n",
              "      <th>Code</th>\n",
              "      <th>Message</th>\n",
              "    </tr>\n",
              "  </thead>\n",
              "  <tbody>\n",
              "    <tr>\n",
              "      <th>0</th>\n",
              "      <td>int get_taint(void) return ret; } +static boo...</td>\n",
              "      <td>micro-optimize the 'became tainted' case. don'...</td>\n",
              "    </tr>\n",
              "    <tr>\n",
              "      <th>1</th>\n",
              "      <td>void XlaLocalLaunchOp::Compute(OpKernelContex...</td>\n",
              "      <td>[TF:XLA] Pass CompileOptions into XlaCompilati...</td>\n",
              "    </tr>\n",
              "    <tr>\n",
              "      <th>2</th>\n",
              "      <td>static char *(features[]) = static int includ...</td>\n",
              "      <td>patch ..: terminal ANSI color test does not co...</td>\n",
              "    </tr>\n",
              "    <tr>\n",
              "      <th>3</th>\n",
              "      <td>FunctionLibraryRuntime* ProcessFunctionLibrar...</td>\n",
              "      <td>Downgrading LOG(ERROR) to VLOG() as the error ...</td>\n",
              "    </tr>\n",
              "    <tr>\n",
              "      <th>4</th>\n",
              "      <td>def _make_master_method(name): return getattr...</td>\n",
              "      <td>Adding the shape_as_list method to the lazy ev...</td>\n",
              "    </tr>\n",
              "  </tbody>\n",
              "</table>\n",
              "</div>"
            ],
            "text/plain": [
              "                                                Code                                            Message\n",
              "0   int get_taint(void) return ret; } +static boo...  micro-optimize the 'became tainted' case. don'...\n",
              "1   void XlaLocalLaunchOp::Compute(OpKernelContex...  [TF:XLA] Pass CompileOptions into XlaCompilati...\n",
              "2   static char *(features[]) = static int includ...  patch ..: terminal ANSI color test does not co...\n",
              "3   FunctionLibraryRuntime* ProcessFunctionLibrar...  Downgrading LOG(ERROR) to VLOG() as the error ...\n",
              "4   def _make_master_method(name): return getattr...  Adding the shape_as_list method to the lazy ev..."
            ]
          },
          "metadata": {
            "tags": []
          },
          "execution_count": 26
        }
      ]
    },
    {
      "cell_type": "code",
      "metadata": {
        "id": "5wkNaITkN_OT"
      },
      "source": [
        "collective_data.to_csv('pydriller_shuffled.csv')"
      ],
      "execution_count": 28,
      "outputs": []
    },
    {
      "cell_type": "code",
      "metadata": {
        "id": "-L2xTgV8P1qT"
      },
      "source": [
        ""
      ],
      "execution_count": null,
      "outputs": []
    }
  ]
}