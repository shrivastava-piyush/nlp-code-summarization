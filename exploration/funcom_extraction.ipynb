{
  "nbformat": 4,
  "nbformat_minor": 0,
  "metadata": {
    "colab": {
      "name": "funcom_extraction.ipynb",
      "provenance": [],
      "collapsed_sections": []
    },
    "kernelspec": {
      "name": "python3",
      "display_name": "Python 3"
    }
  },
  "cells": [
    {
      "cell_type": "code",
      "metadata": {
        "id": "2VG6iiGy4530",
        "colab": {
          "base_uri": "https://localhost:8080/"
        },
        "outputId": "75b9b233-4f1a-4c7a-f740-1920c6cc0b10"
      },
      "source": [
        "import json\n",
        "from pathlib import Path\n",
        "import pandas as pd\n",
        "import numpy as np\n",
        "import matplotlib.pyplot as plt\n",
        "\n",
        "import copy\n",
        "import re\n",
        "\n",
        "!pip install wget\n",
        "import wget\n",
        "import json\n",
        "import tarfile\n",
        "pd.set_option('max_colwidth', 300)"
      ],
      "execution_count": 2,
      "outputs": [
        {
          "output_type": "stream",
          "text": [
            "Requirement already satisfied: wget in /usr/local/lib/python3.6/dist-packages (3.2)\n"
          ],
          "name": "stdout"
        }
      ]
    },
    {
      "cell_type": "markdown",
      "metadata": {
        "id": "T_f3bsCk5OMS"
      },
      "source": [
        "**Funcom code-comment tokenized dataset exploration**"
      ]
    },
    {
      "cell_type": "code",
      "metadata": {
        "colab": {
          "base_uri": "https://localhost:8080/"
        },
        "id": "8Iv1SOTn5OhL",
        "outputId": "46b951d8-f8fd-40b8-a0b7-2c7d2e5195a8"
      },
      "source": [
        "!wget https://s3.us-east-2.amazonaws.com/leclair.tech/data/funcom/funcom_tokenized.tar.gz\n",
        "!tar -xf funcom_tokenized.tar.gz"
      ],
      "execution_count": null,
      "outputs": [
        {
          "output_type": "stream",
          "text": [
            "--2020-12-13 08:23:49--  https://s3.us-east-2.amazonaws.com/leclair.tech/data/funcom/funcom_tokenized.tar.gz\n",
            "Resolving s3.us-east-2.amazonaws.com (s3.us-east-2.amazonaws.com)... 52.219.106.57\n",
            "Connecting to s3.us-east-2.amazonaws.com (s3.us-east-2.amazonaws.com)|52.219.106.57|:443... connected.\n",
            "HTTP request sent, awaiting response... 200 OK\n",
            "Length: 211020526 (201M) [application/x-tar]\n",
            "Saving to: ‘funcom_tokenized.tar.gz’\n",
            "\n",
            "funcom_tokenized.ta 100%[===================>] 201.24M  48.0MB/s    in 4.6s    \n",
            "\n",
            "2020-12-13 08:23:54 (43.9 MB/s) - ‘funcom_tokenized.tar.gz’ saved [211020526/211020526]\n",
            "\n"
          ],
          "name": "stdout"
        }
      ]
    },
    {
      "cell_type": "code",
      "metadata": {
        "colab": {
          "base_uri": "https://localhost:8080/",
          "height": 399
        },
        "id": "otLKOGa05U8Q",
        "outputId": "27000248-d519-4c44-9526-3acbc80a91db"
      },
      "source": [
        "java_functions_data = pd.read_csv('funcom_tokenized/train/functions.train', sep=\"\\t\", header=None, names=['Function ID', 'Function'])\n",
        "print(\"Preprocessed functions:\\n\", java_functions_data.head())\n",
        "java_functions_data['token_length'] = java_functions_data['Function'].str.split().apply(len)\n",
        "\n",
        "java_functions_data['token_length'].hist(bins = 30)"
      ],
      "execution_count": 7,
      "outputs": [
        {
          "output_type": "stream",
          "text": [
            "Preprocessed functions:\n",
            "    Function ID                                                                   Function\n",
            "0     43226887     public void mouse up final mouse event mouseevent modify save on click\n",
            "1     43227058                                            public int get state return new\n",
            "2     43227061                                          public int get state return clean\n",
            "3     43227066                                   public string get sql command return sql\n",
            "4     43227068  public void set sql command final string sql command this sql sql command\n"
          ],
          "name": "stdout"
        },
        {
          "output_type": "execute_result",
          "data": {
            "text/plain": [
              "<matplotlib.axes._subplots.AxesSubplot at 0x7f7fb15fe0b8>"
            ]
          },
          "metadata": {
            "tags": []
          },
          "execution_count": 7
        },
        {
          "output_type": "display_data",
          "data": {
            "image/png": "[encoded data removed]",
            "text/plain": [
              "<Figure size 432x288 with 1 Axes>"
            ]
          },
          "metadata": {
            "tags": [],
            "needs_background": "light"
          }
        }
      ]
    },
    {
      "cell_type": "code",
      "metadata": {
        "colab": {
          "base_uri": "https://localhost:8080/",
          "height": 416
        },
        "id": "9wRvRa35Xob8",
        "outputId": "bae91c32-4959-4c07-c323-9524420dec88"
      },
      "source": [
        "java_comments_data = data = pd.read_csv('funcom_tokenized/train/comments.train', sep=\"\\t\", header=None, names=['Comment ID', 'Comment'])\r\n",
        "java_comments_data['token_length'] = java_comments_data['Comment'].str.split().apply(len)\r\n",
        "java_comments_data['token_length'].hist(bins = 30)\r\n",
        "\r\n",
        "print(\"Comments:\\n\", java_comments_data.head())"
      ],
      "execution_count": 8,
      "outputs": [
        {
          "output_type": "stream",
          "text": [
            "Comments:\n",
            "    Comment ID  ... token_length\n",
            "0    43226887  ...            8\n",
            "1    43227058  ...           10\n",
            "2    43227061  ...           10\n",
            "3    43227066  ...           11\n",
            "4    43227068  ...            9\n",
            "\n",
            "[5 rows x 3 columns]\n"
          ],
          "name": "stdout"
        },
        {
          "output_type": "display_data",
          "data": {
            "image/png": "[encoded data removed]",
            "text/plain": [
              "<Figure size 432x288 with 1 Axes>"
            ]
          },
          "metadata": {
            "tags": [],
            "needs_background": "light"
          }
        }
      ]
    },
    {
      "cell_type": "code",
      "metadata": {
        "id": "ZQ3FU97R5d2Q"
      },
      "source": [
        "def get_funcom_data(remove_id=True):\n",
        "  dataset = []\n",
        "  dataset_name = wget.download(\"https://s3.us-east-2.amazonaws.com/leclair.tech/data/funcom/funcom_tokenized.tar.gz\")\n",
        "  tar = tarfile.open(\"funcom_tokenized.tar.gz\", \"r:gz\")\n",
        "  #print([member.name for member in tar.getmembers()])\n",
        "  for member in tar.getmembers():\n",
        "    data = []\n",
        "    if member.name == 'funcom_tokenized/comments' or member.name == 'funcom_tokenized/functions':\n",
        "      file = tar.extractfile(member)\n",
        "      for line in file:\n",
        "        sentence = copy.copy(line.decode())\n",
        "        sentence = re.sub(r'^.*?\\t', '', sentence)\n",
        "        sentence = re.sub(r'\\n', '', sentence)\n",
        "        data.append(sentence)\n",
        "      dataset.append(data)\n",
        "\n",
        "  return dataset"
      ],
      "execution_count": null,
      "outputs": []
    },
    {
      "cell_type": "code",
      "metadata": {
        "colab": {
          "base_uri": "https://localhost:8080/"
        },
        "id": "3vjnUldc6NDQ",
        "outputId": "7bcdf78b-4b3e-471b-d66e-aca28826d079"
      },
      "source": [
        "dataset = get_funcom_data()\n",
        "\n",
        "print(\"Comments:\\n\", dataset[0][:5])\n",
        "print(\"\\nFunctions:\\n\", dataset[1][:5])"
      ],
      "execution_count": null,
      "outputs": [
        {
          "output_type": "stream",
          "text": [
            "Comments:\n",
            " ['writes the specified character into the buffer', 'create an ast node with the token type and text passed in but', 'changes the suit of the playing card', 'generates the most likely state predictions for the sequence', 'generates the most likely state predictions for the sequence']\n",
            "\n",
            "Functions:\n",
            " [' public void write int c if c 1 current append char c if c n current new string buffer lines add current', ' public ast create int type string txt token first token last ast t ast factory create type txt if t null first null first copy details from first token t initialize first then ensure that type and txt are specific to this new node t initialize type txt if t instanceof groovy source ast last null groovy source ast node groovy source ast t node set last last this is a good point to call node set snippet but it bulks up the ast too much for production code return t', ' public void set suit int suit this suit suit', ' public prediction most likely short sequence return most likely sequence null', ' public prediction most likely short sequence likely notifier notifier results short result new short sequence length return most likely sequence result notifier']\n"
          ],
          "name": "stdout"
        }
      ]
    },
    {
      "cell_type": "code",
      "metadata": {
        "id": "IqWAmcbD7tke"
      },
      "source": [
        "def get_json_data(remove_id=True, sample_size=20000, start_token='\\t', end_token='\\n'):\n",
        "  dataset = []\n",
        "  dataset_name = wget.download(\"https://s3.us-east-2.amazonaws.com/leclair.tech/data/funcom/funcom_filtered.tar.gz\")\n",
        "  tar = tarfile.open(\"funcom_filtered.tar.gz\", \"r:gz\")\n",
        "\n",
        "  for member in tar.getmembers():\n",
        "    data = []\n",
        "    size = 0\n",
        "    if member.name == 'funcom_processed/comments.json' or member.name == 'funcom_processed/functions.json':\n",
        "      file = tar.extractfile(member)\n",
        "\n",
        "      data_df = pd.read_json(file.read(), orient='index')\n",
        "      data_df.reset_index(drop=True, inplace=True)\n",
        "      data_df.columns = ['Column']\n",
        "\n",
        "      if member.name == 'funcom_filtered/comments.json':\n",
        "          data_df['Column'] = start_token + data_df['Column'] + end_token\n",
        "      size += 1\n",
        "      dataset.append(data_df['Column'].tolist())\n",
        "\n",
        "  return dataset"
      ],
      "execution_count": null,
      "outputs": []
    },
    {
      "cell_type": "code",
      "metadata": {
        "id": "VGDfQb4W95Qn",
        "colab": {
          "base_uri": "https://localhost:8080/"
        },
        "outputId": "56e8991b-2dae-46fa-fd01-ebd309071083"
      },
      "source": [
        "json_dataset = get_json_data()\n",
        "\n",
        "print(\"Comments:\\n\", json_dataset[1][:5])\n",
        "print(\"\\nFunctions:\\n\", json_dataset[0][:5])"
      ],
      "execution_count": null,
      "outputs": [
        {
          "output_type": "stream",
          "text": [
            "Comments:\n",
            " ['\\t/**\\n\\t * Returns the pushes lowerbound of this board position.\\n\\t * \\n\\t * @return the pushes lowerbound\\n\\t */\\n', '\\t/**\\n\\t * Sets the pushes lowerbound of this board position.\\n\\t * \\n\\t * @param pushesLowerbound\\n\\t */\\n', '\\t\\t/**\\n\\t\\t * Play a sound.\\n\\t\\t */\\n', '\\t/**\\n\\t * Returns the influence value between the positions of the passed boxes.\\n\\t * <p>\\n\\t * The LOWER the influence value the more influence has the box on the other box.\\n\\t * \\n\\t * @param boxNo1  the position of the first  box whose position is considered\\n\\t * @param boxNo2  the position of the second box whose position is considered\\n\\t * @return the influence value \\n\\t */\\n', '\\t/**\\n\\t * Sets the box positions and the player position.\\n\\t *     \\n\\t * @param positions positions of the boxes and the player\\n\\t */\\n']\n",
            "\n",
            "Functions:\n",
            " ['\\tpublic int getPushesLowerbound() {\\n\\t\\treturn pushesLowerbound;\\n\\t}\\n', '\\tpublic void setPushesLowerbound(int pushesLowerbound) {\\n\\t\\tthis.pushesLowerbound = pushesLowerbound;\\n\\t}\\n', '\\t\\tpublic void play() {\\n\\t\\t\\t\\n\\t\\t\\t// If no sound file is there nothing can be played.\\n\\t\\t\\tif(currentSoundFilename.equals(\"\"))\\n\\t\\t\\t\\treturn;\\n\\t\\t\\t\\n\\t\\t\\t// Check if the this sound must be read from another file (the user has\\n\\t\\t\\t// chosen another sound to be played).\\n\\t\\t\\tString settingsFileName = Settings.get(soundSettingsKey);\\n\\t\\t\\tif(!currentSoundFilename.equals(settingsFileName)) {\\n\\t\\t\\t\\tloadClip(settingsFileName);\\t\\t\\t\\n\\t\\t\\t}\\n\\t\\t\\t\\n\\t\\t\\t// Stop the currently playing sound to play the new sound if necessary.\\n\\t\\t\\tif (clip.isRunning()) {\\n\\t\\t\\t\\tclip.stop();\\n\\t\\t\\t}\\n\\t\\t\\t\\n\\t\\t\\t// Rewind to the beginning.\\n\\t\\t\\tclip.setFramePosition(0); \\n\\t\\t\\t\\n\\t\\t\\t// Start playing.\\n\\t\\t\\tclip.start();    \\n\\t\\t}\\n', '\\tpublic int getInfluenceValue(int boxNo1, int boxNo2) {\\n\\t\\treturn influence.getInfluenceDistance( board.boxData.getBoxPosition(boxNo1),\\n\\t\\t\\t\\t                               board.boxData.getBoxPosition(boxNo2) );\\n\\t}\\n', '\\tpublic void setPositions(int[] positions){\\n\\t\\tthis.positions = positions;\\n\\t}\\n']\n"
          ],
          "name": "stdout"
        }
      ]
    },
    {
      "cell_type": "code",
      "metadata": {
        "id": "VOYHFnAF-BUd"
      },
      "source": [
        ""
      ],
      "execution_count": null,
      "outputs": []
    }
  ]
}