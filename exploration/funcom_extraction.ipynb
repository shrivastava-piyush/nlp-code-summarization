{
  "nbformat": 4,
  "nbformat_minor": 0,
  "metadata": {
    "colab": {
      "name": "funcom_extraction.ipynb",
      "provenance": [],
      "collapsed_sections": []
    },
    "kernelspec": {
      "name": "python3",
      "display_name": "Python 3"
    }
  },
  "cells": [
    {
      "cell_type": "code",
      "metadata": {
        "id": "2VG6iiGy4530",
        "colab": {
          "base_uri": "https://localhost:8080/"
        },
        "outputId": "cd07f59d-9d4e-4a52-894a-5d97be7bf58a"
      },
      "source": [
        "import json\n",
        "from pathlib import Path\n",
        "import pandas as pd\n",
        "\n",
        "import copy\n",
        "import re\n",
        "\n",
        "!pip install wget\n",
        "import wget\n",
        "import json\n",
        "import tarfile\n",
        "pd.set_option('max_colwidth', 300)"
      ],
      "execution_count": null,
      "outputs": [
        {
          "output_type": "stream",
          "text": [
            "Requirement already satisfied: wget in /usr/local/lib/python3.6/dist-packages (3.2)\n"
          ],
          "name": "stdout"
        }
      ]
    },
    {
      "cell_type": "markdown",
      "metadata": {
        "id": "T_f3bsCk5OMS"
      },
      "source": [
        "**Funcom code-comment tokenized dataset exploration**"
      ]
    },
    {
      "cell_type": "code",
      "metadata": {
        "colab": {
          "base_uri": "https://localhost:8080/"
        },
        "id": "8Iv1SOTn5OhL",
        "outputId": "c2da3d44-bff8-4570-c93e-07e5af694a05"
      },
      "source": [
        "!wget https://s3.us-east-2.amazonaws.com/leclair.tech/data/funcom/funcom_tokenized.tar.gz\n",
        "!tar -xf funcom_tokenized.tar.gz"
      ],
      "execution_count": null,
      "outputs": [
        {
          "output_type": "stream",
          "text": [
            "--2020-11-29 21:25:17--  https://s3.us-east-2.amazonaws.com/leclair.tech/data/funcom/funcom_tokenized.tar.gz\n",
            "Resolving s3.us-east-2.amazonaws.com (s3.us-east-2.amazonaws.com)... 52.219.101.49\n",
            "Connecting to s3.us-east-2.amazonaws.com (s3.us-east-2.amazonaws.com)|52.219.101.49|:443... connected.\n",
            "HTTP request sent, awaiting response... 200 OK\n",
            "Length: 211020526 (201M) [application/x-tar]\n",
            "Saving to: ‘funcom_tokenized.tar.gz’\n",
            "\n",
            "funcom_tokenized.ta 100%[===================>] 201.24M   100MB/s    in 2.0s    \n",
            "\n",
            "2020-11-29 21:25:19 (100 MB/s) - ‘funcom_tokenized.tar.gz’ saved [211020526/211020526]\n",
            "\n"
          ],
          "name": "stdout"
        }
      ]
    },
    {
      "cell_type": "code",
      "metadata": {
        "colab": {
          "base_uri": "https://localhost:8080/"
        },
        "id": "otLKOGa05U8Q",
        "outputId": "bca2f072-4b7a-4c67-c757-03d0abc90ad9"
      },
      "source": [
        "java_functions_data = pd.read_csv('funcom_tokenized/train/functions.train', sep=\"\\t\", header=None, names=['Function ID', 'Function'])\n",
        "print(\"Preprocessed functions:\\n\", java_functions_data.head())\n",
        "\n",
        "java_comments_data = data = pd.read_csv('funcom_tokenized/train/comments.train', sep=\"\\t\", header=None, names=['Comment ID', 'Comment'])\n",
        "print(\"Comments:\\n\", java_comments_data.head())"
      ],
      "execution_count": null,
      "outputs": [
        {
          "output_type": "stream",
          "text": [
            "Preprocessed functions:\n",
            "    Function ID                                                                   Function\n",
            "0     43226887     public void mouse up final mouse event mouseevent modify save on click\n",
            "1     43227058                                            public int get state return new\n",
            "2     43227061                                          public int get state return clean\n",
            "3     43227066                                   public string get sql command return sql\n",
            "4     43227068  public void set sql command final string sql command this sql sql command\n",
            "Comments:\n",
            "    Comment ID                                                           Comment\n",
            "0    43226887                          mouse up of abstract data view ok button\n",
            "1    43227058           returns the state constant value of code new state code\n",
            "2    43227061         returns the state constant value of code clean state code\n",
            "3    43227066  this method returns the exact sql command like select from table\n",
            "4    43227068                      this method sets the text of the sql command\n"
          ],
          "name": "stdout"
        }
      ]
    },
    {
      "cell_type": "code",
      "metadata": {
        "id": "ZQ3FU97R5d2Q"
      },
      "source": [
        "def get_funcom_data(remove_id=True):\n",
        "  dataset = []\n",
        "  dataset_name = wget.download(\"https://s3.us-east-2.amazonaws.com/leclair.tech/data/funcom/funcom_tokenized.tar.gz\")\n",
        "  tar = tarfile.open(\"funcom_tokenized.tar.gz\", \"r:gz\")\n",
        "  #print([member.name for member in tar.getmembers()])\n",
        "  for member in tar.getmembers():\n",
        "    data = []\n",
        "    if member.name == 'funcom_tokenized/comments' or member.name == 'funcom_tokenized/functions':\n",
        "      file = tar.extractfile(member)\n",
        "      for line in file:\n",
        "        sentence = copy.copy(line.decode())\n",
        "        sentence = re.sub(r'^.*?\\t', '', sentence)\n",
        "        sentence = re.sub(r'\\n', '', sentence)\n",
        "        data.append(sentence)\n",
        "      dataset.append(data)\n",
        "\n",
        "  return dataset"
      ],
      "execution_count": null,
      "outputs": []
    },
    {
      "cell_type": "code",
      "metadata": {
        "colab": {
          "base_uri": "https://localhost:8080/"
        },
        "id": "3vjnUldc6NDQ",
        "outputId": "4d3173d3-d761-4a8c-f602-bddbf9e197cc"
      },
      "source": [
        "dataset = get_funcom_data()\n",
        "\n",
        "print(\"Comments:\\n\", dataset[0][:5])\n",
        "print(\"\\nFunctions:\\n\", dataset[1][:5])"
      ],
      "execution_count": null,
      "outputs": [
        {
          "output_type": "stream",
          "text": [
            "Comments:\n",
            " ['writes the specified character into the buffer', 'create an ast node with the token type and text passed in but', 'changes the suit of the playing card', 'generates the most likely state predictions for the sequence', 'generates the most likely state predictions for the sequence']\n",
            "\n",
            "Functions:\n",
            " [' public void write int c if c 1 current append char c if c n current new string buffer lines add current', ' public ast create int type string txt token first token last ast t ast factory create type txt if t null first null first copy details from first token t initialize first then ensure that type and txt are specific to this new node t initialize type txt if t instanceof groovy source ast last null groovy source ast node groovy source ast t node set last last this is a good point to call node set snippet but it bulks up the ast too much for production code return t', ' public void set suit int suit this suit suit', ' public prediction most likely short sequence return most likely sequence null', ' public prediction most likely short sequence likely notifier notifier results short result new short sequence length return most likely sequence result notifier']\n"
          ],
          "name": "stdout"
        }
      ]
    },
    {
      "cell_type": "code",
      "metadata": {
        "id": "IqWAmcbD7tke"
      },
      "source": [
        "def get_json_data(remove_id=True, sample_size=20000, start_token='\\t', end_token='\\n'):\n",
        "  dataset = []\n",
        "  dataset_name = wget.download(\"https://s3.us-east-2.amazonaws.com/leclair.tech/data/funcom/funcom_filtered.tar.gz\")\n",
        "  tar = tarfile.open(\"funcom_filtered.tar.gz\", \"r:gz\")\n",
        "\n",
        "  for member in tar.getmembers():\n",
        "    data = []\n",
        "    size = 0\n",
        "    if member.name == 'funcom_processed/comments.json' or member.name == 'funcom_processed/functions.json':\n",
        "      file = tar.extractfile(member)\n",
        "\n",
        "      data_df = pd.read_json(file.read(), orient='index')\n",
        "      data_df.reset_index(drop=True, inplace=True)\n",
        "      data_df.columns = ['Column']\n",
        "\n",
        "      if member.name == 'funcom_filtered/comments.json':\n",
        "          data_df['Column'] = start_token + data_df['Column'] + end_token\n",
        "      size += 1\n",
        "      dataset.append(data_df['Column'].tolist())\n",
        "\n",
        "  return dataset"
      ],
      "execution_count": 75,
      "outputs": []
    },
    {
      "cell_type": "code",
      "metadata": {
        "id": "VGDfQb4W95Qn",
        "colab": {
          "base_uri": "https://localhost:8080/"
        },
        "outputId": "56e8991b-2dae-46fa-fd01-ebd309071083"
      },
      "source": [
        "json_dataset = get_json_data()\n",
        "\n",
        "print(\"Comments:\\n\", json_dataset[1][:5])\n",
        "print(\"\\nFunctions:\\n\", json_dataset[0][:5])"
      ],
      "execution_count": 79,
      "outputs": [
        {
          "output_type": "stream",
          "text": [
            "Comments:\n",
            " ['\\t/**\\n\\t * Returns the pushes lowerbound of this board position.\\n\\t * \\n\\t * @return the pushes lowerbound\\n\\t */\\n', '\\t/**\\n\\t * Sets the pushes lowerbound of this board position.\\n\\t * \\n\\t * @param pushesLowerbound\\n\\t */\\n', '\\t\\t/**\\n\\t\\t * Play a sound.\\n\\t\\t */\\n', '\\t/**\\n\\t * Returns the influence value between the positions of the passed boxes.\\n\\t * <p>\\n\\t * The LOWER the influence value the more influence has the box on the other box.\\n\\t * \\n\\t * @param boxNo1  the position of the first  box whose position is considered\\n\\t * @param boxNo2  the position of the second box whose position is considered\\n\\t * @return the influence value \\n\\t */\\n', '\\t/**\\n\\t * Sets the box positions and the player position.\\n\\t *     \\n\\t * @param positions positions of the boxes and the player\\n\\t */\\n']\n",
            "\n",
            "Functions:\n",
            " ['\\tpublic int getPushesLowerbound() {\\n\\t\\treturn pushesLowerbound;\\n\\t}\\n', '\\tpublic void setPushesLowerbound(int pushesLowerbound) {\\n\\t\\tthis.pushesLowerbound = pushesLowerbound;\\n\\t}\\n', '\\t\\tpublic void play() {\\n\\t\\t\\t\\n\\t\\t\\t// If no sound file is there nothing can be played.\\n\\t\\t\\tif(currentSoundFilename.equals(\"\"))\\n\\t\\t\\t\\treturn;\\n\\t\\t\\t\\n\\t\\t\\t// Check if the this sound must be read from another file (the user has\\n\\t\\t\\t// chosen another sound to be played).\\n\\t\\t\\tString settingsFileName = Settings.get(soundSettingsKey);\\n\\t\\t\\tif(!currentSoundFilename.equals(settingsFileName)) {\\n\\t\\t\\t\\tloadClip(settingsFileName);\\t\\t\\t\\n\\t\\t\\t}\\n\\t\\t\\t\\n\\t\\t\\t// Stop the currently playing sound to play the new sound if necessary.\\n\\t\\t\\tif (clip.isRunning()) {\\n\\t\\t\\t\\tclip.stop();\\n\\t\\t\\t}\\n\\t\\t\\t\\n\\t\\t\\t// Rewind to the beginning.\\n\\t\\t\\tclip.setFramePosition(0); \\n\\t\\t\\t\\n\\t\\t\\t// Start playing.\\n\\t\\t\\tclip.start();    \\n\\t\\t}\\n', '\\tpublic int getInfluenceValue(int boxNo1, int boxNo2) {\\n\\t\\treturn influence.getInfluenceDistance( board.boxData.getBoxPosition(boxNo1),\\n\\t\\t\\t\\t                               board.boxData.getBoxPosition(boxNo2) );\\n\\t}\\n', '\\tpublic void setPositions(int[] positions){\\n\\t\\tthis.positions = positions;\\n\\t}\\n']\n"
          ],
          "name": "stdout"
        }
      ]
    },
    {
      "cell_type": "code",
      "metadata": {
        "id": "VOYHFnAF-BUd"
      },
      "source": [
        ""
      ],
      "execution_count": null,
      "outputs": []
    }
  ]
}