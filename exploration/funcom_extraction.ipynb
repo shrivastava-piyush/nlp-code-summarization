{
  "nbformat": 4,
  "nbformat_minor": 0,
  "metadata": {
    "colab": {
      "name": "funcom_extraction.ipynb",
      "provenance": [],
      "collapsed_sections": []
    },
    "kernelspec": {
      "name": "python3",
      "display_name": "Python 3"
    },
    "accelerator": "GPU"
  },
  "cells": [
    {
      "cell_type": "code",
      "metadata": {
        "id": "2VG6iiGy4530",
        "colab": {
          "base_uri": "https://localhost:8080/"
        },
        "outputId": "84c5c339-d37a-49ef-b95d-604734eecff6"
      },
      "source": [
        "import json\n",
        "from pathlib import Path\n",
        "import pandas as pd\n",
        "\n",
        "import copy\n",
        "import re\n",
        "\n",
        "!pip install wget\n",
        "import wget\n",
        "import tarfile\n",
        "pd.set_option('max_colwidth', 300)"
      ],
      "execution_count": 14,
      "outputs": [
        {
          "output_type": "stream",
          "text": [
            "Requirement already satisfied: wget in /usr/local/lib/python3.6/dist-packages (3.2)\n"
          ],
          "name": "stdout"
        }
      ]
    },
    {
      "cell_type": "markdown",
      "metadata": {
        "id": "T_f3bsCk5OMS"
      },
      "source": [
        "**Funcom code-comment tokenized dataset exploration**"
      ]
    },
    {
      "cell_type": "code",
      "metadata": {
        "colab": {
          "base_uri": "https://localhost:8080/"
        },
        "id": "8Iv1SOTn5OhL",
        "outputId": "c2da3d44-bff8-4570-c93e-07e5af694a05"
      },
      "source": [
        "!wget https://s3.us-east-2.amazonaws.com/leclair.tech/data/funcom/funcom_tokenized.tar.gz\n",
        "!tar -xf funcom_tokenized.tar.gz"
      ],
      "execution_count": null,
      "outputs": [
        {
          "output_type": "stream",
          "text": [
            "--2020-11-29 21:25:17--  https://s3.us-east-2.amazonaws.com/leclair.tech/data/funcom/funcom_tokenized.tar.gz\n",
            "Resolving s3.us-east-2.amazonaws.com (s3.us-east-2.amazonaws.com)... 52.219.101.49\n",
            "Connecting to s3.us-east-2.amazonaws.com (s3.us-east-2.amazonaws.com)|52.219.101.49|:443... connected.\n",
            "HTTP request sent, awaiting response... 200 OK\n",
            "Length: 211020526 (201M) [application/x-tar]\n",
            "Saving to: ‘funcom_tokenized.tar.gz’\n",
            "\n",
            "funcom_tokenized.ta 100%[===================>] 201.24M   100MB/s    in 2.0s    \n",
            "\n",
            "2020-11-29 21:25:19 (100 MB/s) - ‘funcom_tokenized.tar.gz’ saved [211020526/211020526]\n",
            "\n"
          ],
          "name": "stdout"
        }
      ]
    },
    {
      "cell_type": "code",
      "metadata": {
        "colab": {
          "base_uri": "https://localhost:8080/"
        },
        "id": "otLKOGa05U8Q",
        "outputId": "bca2f072-4b7a-4c67-c757-03d0abc90ad9"
      },
      "source": [
        "java_functions_data = pd.read_csv('funcom_tokenized/train/functions.train', sep=\"\\t\", header=None, names=['Function ID', 'Function'])\n",
        "print(\"Preprocessed functions:\\n\", java_functions_data.head())\n",
        "\n",
        "java_comments_data = data = pd.read_csv('funcom_tokenized/train/comments.train', sep=\"\\t\", header=None, names=['Comment ID', 'Comment'])\n",
        "print(\"Comments:\\n\", java_comments_data.head())"
      ],
      "execution_count": null,
      "outputs": [
        {
          "output_type": "stream",
          "text": [
            "Preprocessed functions:\n",
            "    Function ID                                                                   Function\n",
            "0     43226887     public void mouse up final mouse event mouseevent modify save on click\n",
            "1     43227058                                            public int get state return new\n",
            "2     43227061                                          public int get state return clean\n",
            "3     43227066                                   public string get sql command return sql\n",
            "4     43227068  public void set sql command final string sql command this sql sql command\n",
            "Comments:\n",
            "    Comment ID                                                           Comment\n",
            "0    43226887                          mouse up of abstract data view ok button\n",
            "1    43227058           returns the state constant value of code new state code\n",
            "2    43227061         returns the state constant value of code clean state code\n",
            "3    43227066  this method returns the exact sql command like select from table\n",
            "4    43227068                      this method sets the text of the sql command\n"
          ],
          "name": "stdout"
        }
      ]
    },
    {
      "cell_type": "code",
      "metadata": {
        "id": "ZQ3FU97R5d2Q"
      },
      "source": [
        "def get_funcom_data(remove_id=True):\n",
        "  dataset = []\n",
        "  dataset_name = wget.download(\"https://s3.us-east-2.amazonaws.com/leclair.tech/data/funcom/funcom_tokenized.tar.gz\")\n",
        "  tar = tarfile.open(\"funcom_tokenized.tar.gz\", \"r:gz\")\n",
        "  #print([member.name for member in tar.getmembers()])\n",
        "  for member in tar.getmembers():\n",
        "    data = []\n",
        "    if member.name == 'funcom_tokenized/comments' or member.name == 'funcom_tokenized/functions':\n",
        "      file = tar.extractfile(member)\n",
        "      for line in file:\n",
        "        sentence = copy.copy(line.decode())\n",
        "        sentence = re.sub(r'^.*?\\t', '', sentence)\n",
        "        sentence = re.sub(r'\\n', '', sentence)\n",
        "        data.append(sentence)\n",
        "      dataset.append(data)\n",
        "\n",
        "  return dataset"
      ],
      "execution_count": 36,
      "outputs": []
    },
    {
      "cell_type": "code",
      "metadata": {
        "colab": {
          "base_uri": "https://localhost:8080/"
        },
        "id": "3vjnUldc6NDQ",
        "outputId": "4d3173d3-d761-4a8c-f602-bddbf9e197cc"
      },
      "source": [
        "dataset = get_funcom_data()\n",
        "\n",
        "print(\"Comments:\\n\", dataset[0][:5])\n",
        "print(\"\\nFunctions:\\n\", dataset[1][:5])"
      ],
      "execution_count": 38,
      "outputs": [
        {
          "output_type": "stream",
          "text": [
            "Comments:\n",
            " ['writes the specified character into the buffer', 'create an ast node with the token type and text passed in but', 'changes the suit of the playing card', 'generates the most likely state predictions for the sequence', 'generates the most likely state predictions for the sequence']\n",
            "\n",
            "Functions:\n",
            " [' public void write int c if c 1 current append char c if c n current new string buffer lines add current', ' public ast create int type string txt token first token last ast t ast factory create type txt if t null first null first copy details from first token t initialize first then ensure that type and txt are specific to this new node t initialize type txt if t instanceof groovy source ast last null groovy source ast node groovy source ast t node set last last this is a good point to call node set snippet but it bulks up the ast too much for production code return t', ' public void set suit int suit this suit suit', ' public prediction most likely short sequence return most likely sequence null', ' public prediction most likely short sequence likely notifier notifier results short result new short sequence length return most likely sequence result notifier']\n"
          ],
          "name": "stdout"
        }
      ]
    },
    {
      "cell_type": "code",
      "metadata": {
        "id": "IqWAmcbD7tke"
      },
      "source": [
        ""
      ],
      "execution_count": null,
      "outputs": []
    }
  ]
}