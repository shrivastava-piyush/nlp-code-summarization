{
  "nbformat": 4,
  "nbformat_minor": 0,
  "metadata": {
    "colab": {
      "name": "mining_with_pydriller.ipynb",
      "provenance": [],
      "collapsed_sections": [],
      "machine_shape": "hm"
    },
    "kernelspec": {
      "display_name": "Python 3",
      "language": "python",
      "name": "python3"
    },
    "language_info": {
      "codemirror_mode": {
        "name": "ipython",
        "version": 3
      },
      "file_extension": ".py",
      "mimetype": "text/x-python",
      "name": "python",
      "nbconvert_exporter": "python",
      "pygments_lexer": "ipython3",
      "version": "3.7.0"
    }
  },
  "cells": [
    {
      "cell_type": "code",
      "metadata": {
        "id": "CXjQUi8mxQxu"
      },
      "source": [
        "import json\n",
        "from pathlib import Path\n",
        "import pandas as pd\n",
        "from datetime import datetime \n",
        "pd.set_option('max_colwidth',300)"
      ],
      "execution_count": 1,
      "outputs": []
    },
    {
      "cell_type": "markdown",
      "metadata": {
        "id": "ZTpgNw6A4sFe"
      },
      "source": [
        "**Mining C data from github repositories**"
      ]
    },
    {
      "cell_type": "code",
      "metadata": {
        "colab": {
          "base_uri": "https://localhost:8080/"
        },
        "id": "pU24mpmr9ANr",
        "outputId": "4ee6b83d-b5f3-447b-cf7d-6da822a332e0"
      },
      "source": [
        "!pip install pydriller\n",
        "from pydriller.repository_mining import RepositoryMining\n",
        "\n",
        "since_date = datetime(2020, 11, 28)\n",
        "to_date = datetime(2020, 11, 29)\n",
        "\n",
        "repositories = ['https://github.com/s-matyukevich/raspberry-pi-os',\n",
        "                'https://github.com/ggreer/the_silver_searcher',\n",
        "                'https://github.com/boostorg/graph',\n",
        "                'https://github.com/boostorg/asio.git',\n",
        "                'https://github.com/boostorg/python.git']\n",
        "               # 'https://github.com/vurtun/nuklear',\n",
        "                #'https://github.com/pbatard/rufus',\n",
        "                #'https://github.com/hashcat/hashcat',\n",
        "                #'https://github.com/glfw/glfw']\n",
        "\n",
        "messages, code, complexity, lines = [], [], [], []\n",
        "for repository in repositories:\n",
        "  for commit in RepositoryMining(repository).traverse_commits():\n",
        "    for modified_file in commit.modifications:\n",
        "      if modified_file.methods:\n",
        "        messages.append(commit.msg)\n",
        "        code.append(modified_file.diff)\n",
        "        complexity.append(modified_file.complexity)\n",
        "        lines.append(modified_file.nloc)\n",
        "\n",
        "c_data = pd.DataFrame(columns = {'Message': [], 'Code': [], 'Lines': [], 'Complexity': []})\n",
        "c_data['Message'] = messages\n",
        "c_data['Code'] = code\n",
        "c_data['Lines'] = lines\n",
        "c_data['Complexity'] = complexity\n",
        "\n",
        "c_data['Code'] = c_data['Code'].str.replace(r' +', ' ')\n",
        "c_data['Code'] = c_data['Code'].str.replace(r'\\t', '')\n",
        "c_data['Message'] = c_data['Message'].str.replace(r' +', ' ')\n",
        " \n",
        "c_data = c_data[c_data['Message'] != 'Initial commit']\n",
        "c_data = c_data[c_data['Message'] != 'refactoring']\n",
        "c_data = c_data[c_data['Message'] != 'Merge pull request']\n",
        "c_data = c_data[c_data['Message'].str.len() > 20]\n",
        "c_data = c_data[c_data['Message'].str.len() > 40]\n",
        "c_data = c_data[c_data['Code'] != ' ']\n",
        "\n",
        "c_data.drop_duplicates(inplace=True, subset=['Message'])\n",
        "c_data.dropna(subset=['Code'], inplace=True)\n",
        "print(c_data.shape)"
      ],
      "execution_count": null,
      "outputs": [
        {
          "output_type": "stream",
          "text": [
            "Requirement already satisfied: pydriller in /usr/local/lib/python3.6/dist-packages (1.15.4)\n",
            "Requirement already satisfied: gitpython in /usr/local/lib/python3.6/dist-packages (from pydriller) (3.1.11)\n",
            "Requirement already satisfied: lizard in /usr/local/lib/python3.6/dist-packages (from pydriller) (1.17.7)\n",
            "Requirement already satisfied: pytz in /usr/local/lib/python3.6/dist-packages (from pydriller) (2018.9)\n",
            "Requirement already satisfied: gitdb<5,>=4.0.1 in /usr/local/lib/python3.6/dist-packages (from gitpython->pydriller) (4.0.5)\n",
            "Requirement already satisfied: smmap<4,>=3.0.1 in /usr/local/lib/python3.6/dist-packages (from gitdb<5,>=4.0.1->gitpython->pydriller) (3.0.4)\n",
            "(4194, 4)\n"
          ],
          "name": "stdout"
        }
      ]
    },
    {
      "cell_type": "code",
      "metadata": {
        "colab": {
          "base_uri": "https://localhost:8080/",
          "height": 346
        },
        "id": "R_J-mjXgcjsV",
        "outputId": "e906abd1-1e5e-4b6e-e6ad-b9f44d44c403"
      },
      "source": [
        "c_data.head()"
      ],
      "execution_count": null,
      "outputs": [
        {
          "output_type": "execute_result",
          "data": {
            "text/html": [
              "<div>\n",
              "<style scoped>\n",
              "    .dataframe tbody tr th:only-of-type {\n",
              "        vertical-align: middle;\n",
              "    }\n",
              "\n",
              "    .dataframe tbody tr th {\n",
              "        vertical-align: top;\n",
              "    }\n",
              "\n",
              "    .dataframe thead th {\n",
              "        text-align: right;\n",
              "    }\n",
              "</style>\n",
              "<table border=\"1\" class=\"dataframe\">\n",
              "  <thead>\n",
              "    <tr style=\"text-align: right;\">\n",
              "      <th></th>\n",
              "      <th>Message</th>\n",
              "      <th>Code</th>\n",
              "      <th>Lines</th>\n",
              "      <th>Complexity</th>\n",
              "    </tr>\n",
              "  </thead>\n",
              "  <tbody>\n",
              "    <tr>\n",
              "      <th>60</th>\n",
              "      <td>lesson1 refactored. First version of lesson1 doc created</td>\n",
              "      <td>@@ -5,6 +5,7 @@ void kernel_main(void)\\n uart_init();\\n uart_send_string(\"Hello, world!\\r\\n\");\\n \\n-while (1)\\n+while (1) {\\n uart_send(uart_recv());\\n+}\\n }\\n</td>\n",
              "      <td>9</td>\n",
              "      <td>2</td>\n",
              "    </tr>\n",
              "    <tr>\n",
              "      <th>163</th>\n",
              "      <td>complete 1.2 and 1.4\\n\\nThey are the same files. I mingled them. But the qemu only works with single core.</td>\n",
              "      <td>@@ -0,0 +1,14 @@\\n+#include \"uart.h\"\\n+\\n+void kernel_main(unsigned long id) {\\n+ if(id == 0) {\\n+ uart_init();\\n+ }\\n+ uart_send_string(\"Hello from processor \");\\n+ uart_send(id + 48);\\n+ uart_send_string(\".\\r\\n\");\\n+\\n+ while (1) {\\n+ uart_send(uart_recv());\\n+ }\\n+}\\n</td>\n",
              "      <td>12</td>\n",
              "      <td>3</td>\n",
              "    </tr>\n",
              "    <tr>\n",
              "      <th>184</th>\n",
              "      <td>exercises/rs: Update lesson01/4 to use qemu support for mini UART</td>\n",
              "      <td>@@ -1,4 +1,4 @@\\n-#include \"uart.h\"\\n+#include \"mini_uart.h\"\\n \\n void kernel_main(void) {\\n uart_init();\\n</td>\n",
              "      <td>8</td>\n",
              "      <td>2</td>\n",
              "    </tr>\n",
              "    <tr>\n",
              "      <th>197</th>\n",
              "      <td>exercises/rs: add lesson 03 responses\\n\\nQEMU port does not work yet, I still need to figure out why. I will post\\na patch later.</td>\n",
              "      <td>@@ -0,0 +1,48 @@\\n+#include \"peripherals/irq.h\"\\n+#include \"entry.h\"\\n+#include \"printf.h\"\\n+#include \"timer.h\"\\n+#include \"utils.h\"\\n+\\n+const char *entry_error_messages[] = {\\n+ \"SYNC_INVALID_EL1t\", \"IRQ_INVALID_EL1t\",\\n+ \"FIQ_INVALID_EL1t\", \"ERROR_INVALID_EL1T\",\\n+\\n+ \"SYNC_INVALID_EL1h\", \"IR...</td>\n",
              "      <td>32</td>\n",
              "      <td>4</td>\n",
              "    </tr>\n",
              "    <tr>\n",
              "      <th>215</th>\n",
              "      <td>exercises/rs: add lesson 4 responses for 1, 2 and 4</td>\n",
              "      <td>@@ -0,0 +1,27 @@\\n+#include \"entry.h\"\\n+#include \"mm.h\"\\n+#include \"printf.h\"\\n+#include \"sched.h\"\\n+\\n+int copy_process(unsigned long fn, unsigned long arg) {\\n+ preempt_disable();\\n+ struct task_struct *p;\\n+\\n+ p = (struct task_struct *)get_free_page();\\n+ if (!p)\\n+ return 1;\\n+ p-&gt;priority ...</td>\n",
              "      <td>24</td>\n",
              "      <td>2</td>\n",
              "    </tr>\n",
              "  </tbody>\n",
              "</table>\n",
              "</div>"
            ],
            "text/plain": [
              "                                                                                                                               Message  ... Complexity\n",
              "60                                                                            lesson1 refactored. First version of lesson1 doc created  ...          2\n",
              "163                         complete 1.2 and 1.4\\n\\nThey are the same files. I mingled them. But the qemu only works with single core.  ...          3\n",
              "184                                                                  exercises/rs: Update lesson01/4 to use qemu support for mini UART  ...          2\n",
              "197  exercises/rs: add lesson 03 responses\\n\\nQEMU port does not work yet, I still need to figure out why. I will post\\na patch later.  ...          4\n",
              "215                                                                                exercises/rs: add lesson 4 responses for 1, 2 and 4  ...          2\n",
              "\n",
              "[5 rows x 4 columns]"
            ]
          },
          "metadata": {
            "tags": []
          },
          "execution_count": 11
        }
      ]
    },
    {
      "cell_type": "code",
      "metadata": {
        "id": "YkE2JYfYOaRh"
      },
      "source": [
        "c_data.to_csv('pydriller_5k.csv')"
      ],
      "execution_count": null,
      "outputs": []
    },
    {
      "cell_type": "code",
      "metadata": {
        "colab": {
          "base_uri": "https://localhost:8080/"
        },
        "id": "8oHcJgRiF1p8",
        "outputId": "5d6210ad-e833-483d-bb80-c058da2c5510"
      },
      "source": [
        "!pip install pydriller\n",
        "from pydriller.repository_mining import RepositoryMining\n",
        "\n",
        "repositories = ['https://github.com/boostorg/math',\n",
        "                'https://github.com/boostorg/log',\n",
        "                'https://github.com/antirez/rax',\n",
        "                'https://github.com/Pithikos/C-Thread-Pool',\n",
        "                'https://github.com/google/flatbuffers',\n",
        "                'https://github.com/oracle/python-cx_Oracle',\n",
        "                'https://github.com/oracle/odpi',\n",
        "                'https://github.com/oracle/dtrace-utils']\n",
        "\n",
        "messages, code, complexity, lines = [], [], [], []\n",
        "for repository in repositories:\n",
        "  for commit in RepositoryMining(repository).traverse_commits():\n",
        "    for modified_file in commit.modifications:\n",
        "      if modified_file.methods:\n",
        "        messages.append(commit.msg)\n",
        "        code.append(modified_file.diff)\n",
        "        complexity.append(modified_file.complexity)\n",
        "        lines.append(modified_file.nloc)\n",
        "\n",
        "c_data = pd.DataFrame(columns = {'Message': [], 'Code': [], 'Lines': [], 'Complexity': []})\n",
        "c_data['Message'] = messages\n",
        "c_data['Code'] = code\n",
        "c_data['Lines'] = lines\n",
        "c_data['Complexity'] = complexity\n",
        "\n",
        "c_data['Code'] = c_data['Code'].str.replace(r' +', ' ')\n",
        "c_data['Code'] = c_data['Code'].str.replace(r'\\t', '')\n",
        "c_data['Code'] = c_data['Code'].str.replace(r'\\@@.*?@@', '')\n",
        "c_data['Message'] = c_data['Message'].str.replace(r' +', ' ')\n",
        " \n",
        "c_data = c_data[c_data['Message'] != 'Initial commit']\n",
        "c_data = c_data[c_data['Message'] != 'refactoring']\n",
        "c_data = c_data[c_data['Message'] != 'Merge pull request']\n",
        "c_data = c_data[c_data['Message'].str.len() > 20]\n",
        "c_data = c_data[c_data['Message'].str.len() > 40]\n",
        "c_data = c_data[c_data['Code'] != ' ']\n",
        "\n",
        "c_data.drop_duplicates(inplace=True, subset=['Message'])\n",
        "c_data.dropna(subset=['Code'], inplace=True)\n",
        "print(c_data.shape)"
      ],
      "execution_count": null,
      "outputs": [
        {
          "output_type": "stream",
          "text": [
            "Requirement already satisfied: pydriller in /usr/local/lib/python3.6/dist-packages (1.15.4)\n",
            "Requirement already satisfied: lizard in /usr/local/lib/python3.6/dist-packages (from pydriller) (1.17.7)\n",
            "Requirement already satisfied: gitpython in /usr/local/lib/python3.6/dist-packages (from pydriller) (3.1.11)\n",
            "Requirement already satisfied: pytz in /usr/local/lib/python3.6/dist-packages (from pydriller) (2018.9)\n",
            "Requirement already satisfied: gitdb<5,>=4.0.1 in /usr/local/lib/python3.6/dist-packages (from gitpython->pydriller) (4.0.5)\n",
            "Requirement already satisfied: smmap<4,>=3.0.1 in /usr/local/lib/python3.6/dist-packages (from gitdb<5,>=4.0.1->gitpython->pydriller) (3.0.4)\n",
            "(6197, 4)\n"
          ],
          "name": "stdout"
        }
      ]
    },
    {
      "cell_type": "code",
      "metadata": {
        "colab": {
          "base_uri": "https://localhost:8080/",
          "height": 363
        },
        "id": "aIxIxfGHJS9d",
        "outputId": "01945a6a-82c0-4ed2-cc9c-f12d3d485ff5"
      },
      "source": [
        "c_data.head()"
      ],
      "execution_count": null,
      "outputs": [
        {
          "output_type": "execute_result",
          "data": {
            "text/html": [
              "<div>\n",
              "<style scoped>\n",
              "    .dataframe tbody tr th:only-of-type {\n",
              "        vertical-align: middle;\n",
              "    }\n",
              "\n",
              "    .dataframe tbody tr th {\n",
              "        vertical-align: top;\n",
              "    }\n",
              "\n",
              "    .dataframe thead th {\n",
              "        text-align: right;\n",
              "    }\n",
              "</style>\n",
              "<table border=\"1\" class=\"dataframe\">\n",
              "  <thead>\n",
              "    <tr style=\"text-align: right;\">\n",
              "      <th></th>\n",
              "      <th>Message</th>\n",
              "      <th>Code</th>\n",
              "      <th>Lines</th>\n",
              "      <th>Complexity</th>\n",
              "    </tr>\n",
              "  </thead>\n",
              "  <tbody>\n",
              "    <tr>\n",
              "      <th>0</th>\n",
              "      <td>Special functions, octonions, quaternions by Hubert Holin\\n\\n\\n[SVN r10404]</td>\n",
              "      <td>\\n+// boost octonion.hpp header file\\n+\\n+// (C) Copyright Hubert Holin 2001. Permission to copy, use, modify, sell and\\n+// distribute this software is granted provided this copyright notice appears\\n+// in all copies. This software is provided \"as is\" without express or implied\\n+// warranty, ...</td>\n",
              "      <td>2089</td>\n",
              "      <td>386</td>\n",
              "    </tr>\n",
              "    <tr>\n",
              "      <th>5</th>\n",
              "      <td>Special functions, octonions, quaternions by Hubert Holin\\n\\n\\n[SVN r10405]</td>\n",
              "      <td>\\n+// test file for octonion.hpp\\n+\\n+// (C) Copyright Hubert Holin 2001. Permission to copy, use, modify, sell and\\n+// distribute this software is granted provided this copyright notice appears\\n+// in all copies. This software is provided \"as is\" without express or implied\\n+// warranty, and ...</td>\n",
              "      <td>439</td>\n",
              "      <td>31</td>\n",
              "    </tr>\n",
              "    <tr>\n",
              "      <th>11</th>\n",
              "      <td>fix various compile problems\\n\\n\\n[SVN r10484]</td>\n",
              "      <td>int test_main(int, char *[])\\n numeric_limits&lt;float&gt;::epsilon());\\n \\n BOOST_CRITICAL_TEST(abs(\\n- exp(::boost::quaternion&lt;float&gt;(0,4*::std::atan(1),0,0))+\\n+ exp(::boost::quaternion&lt;float&gt;(0,4*::std::atan(1.0),0,0))+\\n static_cast&lt;float&gt;(1)) &lt;=\\n numeric_limits&lt;float&gt;::epsilon());\\n \\n BOOST_C...</td>\n",
              "      <td>538</td>\n",
              "      <td>5</td>\n",
              "    </tr>\n",
              "    <tr>\n",
              "      <th>12</th>\n",
              "      <td>moved to namespace boost::math\\nformatting changes\\n\\n\\n[SVN r10568]</td>\n",
              "      <td>\\n-// boost octonion.hpp header file\\n+// boost octonion.hpp header file\\n \\n // (C) Copyright Hubert Holin 2001. Permission to copy, use, modify, sell and\\n // distribute this software is granted provided this copyright notice appears\\n\\n \\n namespace boost\\n {\\n-#define BOOST_OCTONION_ACCESSOR...</td>\n",
              "      <td>2092</td>\n",
              "      <td>386</td>\n",
              "    </tr>\n",
              "    <tr>\n",
              "      <th>17</th>\n",
              "      <td>moved to namespace boost::math\\nformatting changed\\n\\n\\n[SVN r10569]</td>\n",
              "      <td>\\n \\n // explicit (if ludicrous) instanciation\\n #ifndef __GNUC__\\n-template class ::boost::octonion&lt;int&gt;;\\n+template class ::boost::math::octonion&lt;int&gt;;\\n #else\\n // gcc 3.0 doesn't like the absolutely-qualified namespace\\n-template class boost::octonion&lt;int&gt;;\\n+template class boost::math::octo...</td>\n",
              "      <td>367</td>\n",
              "      <td>13</td>\n",
              "    </tr>\n",
              "  </tbody>\n",
              "</table>\n",
              "</div>"
            ],
            "text/plain": [
              "                                                                        Message  ... Complexity\n",
              "0   Special functions, octonions, quaternions by Hubert Holin\\n\\n\\n[SVN r10404]  ...        386\n",
              "5   Special functions, octonions, quaternions by Hubert Holin\\n\\n\\n[SVN r10405]  ...         31\n",
              "11                               fix various compile problems\\n\\n\\n[SVN r10484]  ...          5\n",
              "12         moved to namespace boost::math\\nformatting changes\\n\\n\\n[SVN r10568]  ...        386\n",
              "17         moved to namespace boost::math\\nformatting changed\\n\\n\\n[SVN r10569]  ...         13\n",
              "\n",
              "[5 rows x 4 columns]"
            ]
          },
          "metadata": {
            "tags": []
          },
          "execution_count": 6
        }
      ]
    },
    {
      "cell_type": "code",
      "metadata": {
        "id": "jigTKQH6OvH9"
      },
      "source": [
        "c_data.to_csv('pydriller_6k_filtered.csv')"
      ],
      "execution_count": null,
      "outputs": []
    },
    {
      "cell_type": "code",
      "metadata": {
        "id": "se_Hp78kVW1M",
        "colab": {
          "base_uri": "https://localhost:8080/"
        },
        "outputId": "153a0b61-aeee-4df1-e99d-1c954cb3a3aa"
      },
      "source": [
        "!pip install pydriller\r\n",
        "from pydriller.repository_mining import RepositoryMining\r\n",
        "\r\n",
        "repositories = ['https://github.com/FreyrSCADA/DNP3',\r\n",
        "                'https://github.com/google/googletest',\r\n",
        "                'https://github.com/google/oss-fuzz',\r\n",
        "                'https://github.com/kernelslacker/trinity',\r\n",
        "                'https://github.com/Pithikos/C-Thread-Pool',\r\n",
        "                'https://github.com/google/flatbuffers',\r\n",
        "                'https://github.com/oracle/python-cx_Oracle',\r\n",
        "                'https://github.com/oracle/odpi',\r\n",
        "                'https://github.com/oracle/dtrace-utils']\r\n",
        "\r\n",
        "messages, code, complexity, lines = [], [], [], []\r\n",
        "for repository in repositories:\r\n",
        "  for commit in RepositoryMining(repository).traverse_commits():\r\n",
        "    for modified_file in commit.modifications:\r\n",
        "      if modified_file.methods:\r\n",
        "        messages.append(commit.msg)\r\n",
        "        code.append(modified_file.diff)\r\n",
        "        complexity.append(modified_file.complexity)\r\n",
        "        lines.append(modified_file.nloc)\r\n",
        "\r\n",
        "c_data = pd.DataFrame(columns = {'Message': [], 'Code': [], 'Lines': [], 'Complexity': []})\r\n",
        "c_data['Message'] = messages\r\n",
        "c_data['Code'] = code\r\n",
        "c_data['Lines'] = lines\r\n",
        "c_data['Complexity'] = complexity\r\n",
        "\r\n",
        "c_data['Code'] = c_data['Code'].str.replace(r' +', ' ')\r\n",
        "c_data['Code'] = c_data['Code'].str.replace(r'\\t', '')\r\n",
        "c_data['Code'] = c_data['Code'].str.replace(r'\\@@.*?@@', '')\r\n",
        "c_data['Message'] = c_data['Message'].str.replace(r' +', ' ')\r\n",
        " \r\n",
        "c_data = c_data[c_data['Message'] != 'Initial commit']\r\n",
        "c_data = c_data[c_data['Message'] != 'refactoring']\r\n",
        "c_data = c_data[c_data['Message'] != 'Merge pull request']\r\n",
        "c_data = c_data[c_data['Message'].str.len() > 20]\r\n",
        "c_data = c_data[c_data['Message'].str.len() < 700]\r\n",
        "c_data = c_data[c_data['Code'].str.len() < 1000]\r\n",
        "c_data = c_data[c_data['Code'] != ' ']\r\n",
        "\r\n",
        "c_data.drop_duplicates(inplace=True, subset=['Message'])\r\n",
        "c_data.dropna(subset=['Code'], inplace=True)\r\n",
        "print(c_data.shape)"
      ],
      "execution_count": null,
      "outputs": [
        {
          "output_type": "stream",
          "text": [
            "Requirement already satisfied: pydriller in /usr/local/lib/python3.6/dist-packages (1.15.4)\n",
            "Requirement already satisfied: pytz in /usr/local/lib/python3.6/dist-packages (from pydriller) (2018.9)\n",
            "Requirement already satisfied: gitpython in /usr/local/lib/python3.6/dist-packages (from pydriller) (3.1.11)\n",
            "Requirement already satisfied: lizard in /usr/local/lib/python3.6/dist-packages (from pydriller) (1.17.7)\n",
            "Requirement already satisfied: gitdb<5,>=4.0.1 in /usr/local/lib/python3.6/dist-packages (from gitpython->pydriller) (4.0.5)\n",
            "Requirement already satisfied: smmap<4,>=3.0.1 in /usr/local/lib/python3.6/dist-packages (from gitdb<5,>=4.0.1->gitpython->pydriller) (3.0.4)\n",
            "(6789, 4)\n"
          ],
          "name": "stdout"
        }
      ]
    },
    {
      "cell_type": "code",
      "metadata": {
        "colab": {
          "base_uri": "https://localhost:8080/",
          "height": 430
        },
        "id": "qNzZkKPXky4w",
        "outputId": "2cc7ffcb-cf86-4abf-b7a2-fb003c2b597b"
      },
      "source": [
        "c_data.head()"
      ],
      "execution_count": null,
      "outputs": [
        {
          "output_type": "execute_result",
          "data": {
            "text/html": [
              "<div>\n",
              "<style scoped>\n",
              "    .dataframe tbody tr th:only-of-type {\n",
              "        vertical-align: middle;\n",
              "    }\n",
              "\n",
              "    .dataframe tbody tr th {\n",
              "        vertical-align: top;\n",
              "    }\n",
              "\n",
              "    .dataframe thead th {\n",
              "        text-align: right;\n",
              "    }\n",
              "</style>\n",
              "<table border=\"1\" class=\"dataframe\">\n",
              "  <thead>\n",
              "    <tr style=\"text-align: right;\">\n",
              "      <th></th>\n",
              "      <th>Message</th>\n",
              "      <th>Code</th>\n",
              "      <th>Lines</th>\n",
              "      <th>Complexity</th>\n",
              "    </tr>\n",
              "  </thead>\n",
              "  <tbody>\n",
              "    <tr>\n",
              "      <th>64</th>\n",
              "      <td>Makes the autotools scripts work on Mac OS X. Also hopefully makes gtest compile on Windows CE.</td>\n",
              "      <td>\\n #ifndef GTEST_INCLUDE_GTEST_GTEST_MESSAGE_H_\\n #define GTEST_INCLUDE_GTEST_GTEST_MESSAGE_H_\\n \\n-#if defined(__APPLE__) &amp;&amp; !defined(GTEST_NOT_MAC_FRAMEWORK_MODE)\\n-// When using Google Test on the Mac as a framework, all the includes will be\\n-// in the framework headers folder along with gte...</td>\n",
              "      <td>72</td>\n",
              "      <td>18</td>\n",
              "    </tr>\n",
              "    <tr>\n",
              "      <th>73</th>\n",
              "      <td>Makes Google Test compile on Mac OS X and Cygwin, and adds project files for Microsoft Visual Studio.</td>\n",
              "      <td>\\n // Test flag names share, in upper case.\\n //\\n // Macros indicating the current platform:\\n+// GTEST_OS_CYGWIN - defined iff compiled on Cygwin.\\n // GTEST_OS_LINUX - defined iff compiled on Linux.\\n // GTEST_OS_MAC - defined iff compiled on Mac OS X.\\n // GTEST_OS_WINDOWS - defined iff comp...</td>\n",
              "      <td>148</td>\n",
              "      <td>29</td>\n",
              "    </tr>\n",
              "    <tr>\n",
              "      <th>76</th>\n",
              "      <td>Fixes some style nits; also fixes minor bugs in gtest-death-test.cc.</td>\n",
              "      <td>String FormatForFailureMessage(wchar_t wchar);\\n // This internal macro is used to avoid duplicated code.\\n #define GTEST_FORMAT_IMPL(operand2_type, operand1_printer)\\\\n inline String FormatForComparisonFailureMessage(\\\\n- operand2_type::value_type* str, const operand2_type&amp; operand2) {\\\\n+ ope...</td>\n",
              "      <td>141</td>\n",
              "      <td>23</td>\n",
              "    </tr>\n",
              "    <tr>\n",
              "      <th>79</th>\n",
              "      <td>Makes the output understandable by VS when compiled by MSVC.</td>\n",
              "      <td>static const char * TestPartResultTypeToString(TestPartResultType type) {\\n \\n case TPRT_NONFATAL_FAILURE:\\n case TPRT_FATAL_FAILURE:\\n- return \"Failure\";\\n+#ifdef _MSC_VER\\n+ return \"error: \";\\n+#else\\n+ return \"Failure\\n\";\\n+#endif\\n }\\n \\n return \"Unknown result type\";\\n static void PrintTes...</td>\n",
              "      <td>2031</td>\n",
              "      <td>471</td>\n",
              "    </tr>\n",
              "    <tr>\n",
              "      <th>85</th>\n",
              "      <td>Adds a test for the GTEST_PRINT_TIME env var. By Balazs.Dan@gmail.com.</td>\n",
              "      <td>def TestEnvVarAffectsFlag(command):\\n TestFlag(command, 'color', 'yes', 'auto')\\n TestFlag(command, 'filter', 'FooTest.Bar', '*')\\n TestFlag(command, 'output', 'tmp/foo.xml', '')\\n+ TestFlag(command, 'print_time', '1', '0')\\n TestFlag(command, 'repeat', '999', '1')\\n \\n if IS_WINDOWS:\\n</td>\n",
              "      <td>71</td>\n",
              "      <td>14</td>\n",
              "    </tr>\n",
              "  </tbody>\n",
              "</table>\n",
              "</div>"
            ],
            "text/plain": [
              "                                                                                                  Message  ... Complexity\n",
              "64        Makes the autotools scripts work on Mac OS X. Also hopefully makes gtest compile on Windows CE.  ...         18\n",
              "73  Makes Google Test compile on Mac OS X and Cygwin, and adds project files for Microsoft Visual Studio.  ...         29\n",
              "76                                   Fixes some style nits; also fixes minor bugs in gtest-death-test.cc.  ...         23\n",
              "79                                           Makes the output understandable by VS when compiled by MSVC.  ...        471\n",
              "85                                 Adds a test for the GTEST_PRINT_TIME env var. By Balazs.Dan@gmail.com.  ...         14\n",
              "\n",
              "[5 rows x 4 columns]"
            ]
          },
          "metadata": {
            "tags": []
          },
          "execution_count": 7
        }
      ]
    },
    {
      "cell_type": "code",
      "metadata": {
        "colab": {
          "base_uri": "https://localhost:8080/",
          "height": 331
        },
        "id": "fvwBaGbOQsEU",
        "outputId": "62bd2b67-b12e-4fef-f5b6-fc26325d8f12"
      },
      "source": [
        "c_data.hist(bins=30)"
      ],
      "execution_count": null,
      "outputs": [
        {
          "output_type": "execute_result",
          "data": {
            "text/plain": [
              "array([[<matplotlib.axes._subplots.AxesSubplot object at 0x7f69e32550b8>,\n",
              "        <matplotlib.axes._subplots.AxesSubplot object at 0x7f69e339c7b8>]],\n",
              "      dtype=object)"
            ]
          },
          "metadata": {
            "tags": []
          },
          "execution_count": 8
        },
        {
          "output_type": "display_data",
          "data": {
            "image/png": "[encoded data removed]",
            "text/plain": [
              "<Figure size 432x288 with 2 Axes>"
            ]
          },
          "metadata": {
            "tags": [],
            "needs_background": "light"
          }
        }
      ]
    },
    {
      "cell_type": "code",
      "metadata": {
        "id": "NCBqC75jAOz1"
      },
      "source": [
        "c_data.to_csv('pydriller_6k_filtered.csv', index=False)"
      ],
      "execution_count": null,
      "outputs": []
    },
    {
      "cell_type": "code",
      "metadata": {
        "colab": {
          "base_uri": "https://localhost:8080/"
        },
        "id": "GeA9Y1hPRDbl",
        "outputId": "fb9ecbf4-8115-49a8-c5e9-5323145b6be6"
      },
      "source": [
        "!pip install pydriller\r\n",
        "from pydriller.repository_mining import RepositoryMining\r\n",
        "\r\n",
        "repositories = ['https://github.com/videolan/vlc']\r\n",
        "\r\n",
        "messages, code, complexity, lines = [], [], [], []\r\n",
        "for repository in repositories:\r\n",
        "  for commit in RepositoryMining(repository).traverse_commits():\r\n",
        "    for modified_file in commit.modifications:\r\n",
        "      if modified_file.methods:\r\n",
        "        messages.append(commit.msg)\r\n",
        "        code.append(modified_file.diff)\r\n",
        "        complexity.append(modified_file.complexity)\r\n",
        "        lines.append(modified_file.nloc)\r\n",
        "\r\n",
        "c_data = pd.DataFrame(columns = {'Message': [], 'Code': [], 'Lines': [], 'Complexity': []})\r\n",
        "c_data['Message'] = messages\r\n",
        "c_data['Code'] = code\r\n",
        "c_data['Lines'] = lines\r\n",
        "c_data['Complexity'] = complexity\r\n",
        "\r\n",
        "c_data['Code'] = c_data['Code'].str.replace(r' +', ' ')\r\n",
        "c_data['Code'] = c_data['Code'].str.replace(r'\\t', '')\r\n",
        "c_data['Code'] = c_data['Code'].str.replace(r'\\@@.*?@@', '')\r\n",
        "c_data['Message'] = c_data['Message'].str.replace(r' +', ' ')\r\n",
        " \r\n",
        "c_data = c_data[c_data['Message'] != 'Initial commit']\r\n",
        "c_data = c_data[c_data['Message'] != 'refactoring']\r\n",
        "c_data = c_data[c_data['Message'] != 'Merge pull request']\r\n",
        "c_data = c_data[c_data['Message'].str.len() > 20]\r\n",
        "c_data = c_data[c_data['Message'].str.len() < 700]\r\n",
        "c_data = c_data[c_data['Code'].str.len() < 1000]\r\n",
        "c_data = c_data[c_data['Code'] != ' ']\r\n",
        "\r\n",
        "c_data.drop_duplicates(inplace=True, subset=['Message'])\r\n",
        "c_data.dropna(subset=['Code'], inplace=True)\r\n",
        "print(c_data.shape)"
      ],
      "execution_count": null,
      "outputs": [
        {
          "output_type": "stream",
          "text": [
            "Requirement already satisfied: pydriller in /usr/local/lib/python3.6/dist-packages (1.15.4)\n",
            "Requirement already satisfied: lizard in /usr/local/lib/python3.6/dist-packages (from pydriller) (1.17.7)\n",
            "Requirement already satisfied: pytz in /usr/local/lib/python3.6/dist-packages (from pydriller) (2018.9)\n",
            "Requirement already satisfied: gitpython in /usr/local/lib/python3.6/dist-packages (from pydriller) (3.1.11)\n",
            "Requirement already satisfied: gitdb<5,>=4.0.1 in /usr/local/lib/python3.6/dist-packages (from gitpython->pydriller) (4.0.5)\n",
            "Requirement already satisfied: smmap<4,>=3.0.1 in /usr/local/lib/python3.6/dist-packages (from gitdb<5,>=4.0.1->gitpython->pydriller) (3.0.4)\n",
            "(44063, 4)\n"
          ],
          "name": "stdout"
        }
      ]
    },
    {
      "cell_type": "code",
      "metadata": {
        "colab": {
          "base_uri": "https://localhost:8080/",
          "height": 331
        },
        "id": "7M_fmaIyuKKQ",
        "outputId": "efb2cbae-991f-4e17-fcee-a7289f781899"
      },
      "source": [
        "c_data.hist(bins=30)"
      ],
      "execution_count": null,
      "outputs": [
        {
          "output_type": "execute_result",
          "data": {
            "text/plain": [
              "array([[<matplotlib.axes._subplots.AxesSubplot object at 0x7f69e3af9b38>,\n",
              "        <matplotlib.axes._subplots.AxesSubplot object at 0x7f69e3a4aa90>]],\n",
              "      dtype=object)"
            ]
          },
          "metadata": {
            "tags": []
          },
          "execution_count": 13
        },
        {
          "output_type": "display_data",
          "data": {
            "image/png": "[encoded data removed]",
            "text/plain": [
              "<Figure size 432x288 with 2 Axes>"
            ]
          },
          "metadata": {
            "tags": [],
            "needs_background": "light"
          }
        }
      ]
    },
    {
      "cell_type": "code",
      "metadata": {
        "colab": {
          "base_uri": "https://localhost:8080/",
          "height": 481
        },
        "id": "Jr3VF88wS5vk",
        "outputId": "3c5ea805-6c62-4954-ffa0-3c12d88b2aca"
      },
      "source": [
        "c_data.head()"
      ],
      "execution_count": null,
      "outputs": [
        {
          "output_type": "execute_result",
          "data": {
            "text/html": [
              "<div>\n",
              "<style scoped>\n",
              "    .dataframe tbody tr th:only-of-type {\n",
              "        vertical-align: middle;\n",
              "    }\n",
              "\n",
              "    .dataframe tbody tr th {\n",
              "        vertical-align: top;\n",
              "    }\n",
              "\n",
              "    .dataframe thead th {\n",
              "        text-align: right;\n",
              "    }\n",
              "</style>\n",
              "<table border=\"1\" class=\"dataframe\">\n",
              "  <thead>\n",
              "    <tr style=\"text-align: right;\">\n",
              "      <th></th>\n",
              "      <th>Message</th>\n",
              "      <th>Code</th>\n",
              "      <th>Lines</th>\n",
              "      <th>Complexity</th>\n",
              "    </tr>\n",
              "  </thead>\n",
              "  <tbody>\n",
              "    <tr>\n",
              "      <th>29</th>\n",
              "      <td>* Ajout d'un .cvsignore ;\\n* Au d�marrage l'interface lance le script contenu dans vlc.init s'il\\n existe (typiquement spawnage d'input) ;\\n* Le d�codeur PSI spawne automatiquement les threads video et audio des\\n qu'il a fini ;\\n [les deux pr�c�dents comportements peuvent �tre d�sactiv�s en\\n c...</td>\n",
              "      <td>static void input_Thread( input_thread_t *p_input )\\n p_input-&gt;b_die = 1;\\n }\\n \\n-#ifdef DEBUG\\n+#ifdef STATS\\n p_input-&gt;c_loops++;\\n #endif\\n }\\n</td>\n",
              "      <td>693</td>\n",
              "      <td>123</td>\n",
              "    </tr>\n",
              "    <tr>\n",
              "      <th>33</th>\n",
              "      <td>* La DCT et la PCM sont dans audio_math.c ;\\n* Corrections de quelques warnings ici ou la ;\\n\\n--Meuuh</td>\n",
              "      <td>\\n \\n #include \"audio_constants.h\"\\n #include \"audio_decoder.h\"\\n+#include \"audio_math.h\"\\n \\n /******************************************************************************\\n * Local prototypes\\n</td>\n",
              "      <td>458</td>\n",
              "      <td>66</td>\n",
              "    </tr>\n",
              "    <tr>\n",
              "      <th>39</th>\n",
              "      <td>* Passage de NeedBits(), DumpBits(), etc. dans decoder_fifo.h ;\\n* Suppression de warnings ;\\n\\n--Meuuh</td>\n",
              "      <td>\\n #include \"common.h\"\\n #include \"mtime.h\"\\n #include \"thread.h\"\\n+#include \"debug.h\"\\n+\\n+#include \"intf_msg.h\"\\n \\n #include \"input.h\"\\n+#include \"input_netlist.h\"\\n #include \"input_vlan.h\"\\n #include \"decoder_fifo.h\"\\n \\n\\n \\n #include \"xconsole.h\"\\n #include \"interface.h\"\\n-#include \"intf_m...</td>\n",
              "      <td>107</td>\n",
              "      <td>19</td>\n",
              "    </tr>\n",
              "    <tr>\n",
              "      <th>42</th>\n",
              "      <td>* Le video_decoder a desormais une structure qui tourne (copier-coller de\\n l'audio_decoder) ;\\n\\nL'integration du mpeg2decode arrive !\\n\\n--Meuuh</td>\n",
              "      <td>void input_DestroyThread( input_thread_t *p_input )\\n {\\n case MPEG1_VIDEO_ES:\\n case MPEG2_VIDEO_ES:\\n- vdec_DestroyThread( (vdec_thread_t*)(p_input-&gt;pp_selected_es[i_es_loop]-&gt;p_dec), NULL );\\n+ vdec_DestroyThread( (vdec_thread_t*)(p_input-&gt;pp_selected_es[i_es_loop]-&gt;p_dec) /*, NULL */ );\\n b...</td>\n",
              "      <td>693</td>\n",
              "      <td>123</td>\n",
              "    </tr>\n",
              "    <tr>\n",
              "      <th>49</th>\n",
              "      <td>* AUTO_SPAWN n'est plus necessaire pour lancer l'init script.\\n\\n--Meuuh</td>\n",
              "      <td>int intf_Run( intf_thread_t *p_intf )\\n static int StartInterface( intf_thread_t *p_intf )\\n {\\n int i_thread; /* thread index */\\n-#ifdef AUTO_SPAWN\\n+#ifdef INIT_SCRIPT\\n int fd;\\n #endif\\n \\n static int StartInterface( intf_thread_t *p_intf )\\n return( 1 );\\n }\\n \\n-#ifdef AUTO_SPAWN\\n+#ifde...</td>\n",
              "      <td>107</td>\n",
              "      <td>19</td>\n",
              "    </tr>\n",
              "  </tbody>\n",
              "</table>\n",
              "</div>"
            ],
            "text/plain": [
              "                                                                                                                                                                                                                                                                                                        Message  ... Complexity\n",
              "29  * Ajout d'un .cvsignore ;\\n* Au d�marrage l'interface lance le script contenu dans vlc.init s'il\\n existe (typiquement spawnage d'input) ;\\n* Le d�codeur PSI spawne automatiquement les threads video et audio des\\n qu'il a fini ;\\n [les deux pr�c�dents comportements peuvent �tre d�sactiv�s en\\n c...  ...        123\n",
              "33                                                                                                                                                                                                       * La DCT et la PCM sont dans audio_math.c ;\\n* Corrections de quelques warnings ici ou la ;\\n\\n--Meuuh  ...         66\n",
              "39                                                                                                                                                                                                      * Passage de NeedBits(), DumpBits(), etc. dans decoder_fifo.h ;\\n* Suppression de warnings ;\\n\\n--Meuuh  ...         19\n",
              "42                                                                                                                                                           * Le video_decoder a desormais une structure qui tourne (copier-coller de\\n l'audio_decoder) ;\\n\\nL'integration du mpeg2decode arrive !\\n\\n--Meuuh  ...        123\n",
              "49                                                                                                                                                                                                                                     * AUTO_SPAWN n'est plus necessaire pour lancer l'init script.\\n\\n--Meuuh  ...         19\n",
              "\n",
              "[5 rows x 4 columns]"
            ]
          },
          "metadata": {
            "tags": []
          },
          "execution_count": 11
        }
      ]
    },
    {
      "cell_type": "code",
      "metadata": {
        "id": "eM89_lSEt4Gr"
      },
      "source": [
        "c_data.to_csv('pydriller_44k_filtered.csv', index=False)"
      ],
      "execution_count": null,
      "outputs": []
    },
    {
      "cell_type": "markdown",
      "metadata": {
        "id": "XBp-VtvUxhH4"
      },
      "source": [
        "**Mining Java data from Github repositories**"
      ]
    },
    {
      "cell_type": "code",
      "metadata": {
        "id": "cylvns8OuB8B",
        "colab": {
          "base_uri": "https://localhost:8080/"
        },
        "outputId": "c9604f02-aa09-4f91-a5c7-a0f1e283dd1e"
      },
      "source": [
        "!pip install pydriller\r\n",
        "from pydriller.repository_mining import RepositoryMining\r\n",
        "\r\n",
        "repositories = ['https://github.com/iluwatar/java-design-patterns',\r\n",
        "                'https://github.com/spring-projects/spring-boot',\r\n",
        "                'https://github.com/ReactiveX/RxJava.git']\r\n",
        "\r\n",
        "messages, code, complexity, lines = [], [], [], []\r\n",
        "for repository in repositories:\r\n",
        "  for commit in RepositoryMining(repository).traverse_commits():\r\n",
        "    for modified_file in commit.modifications:\r\n",
        "      messages.append(commit.msg)\r\n",
        "      code.append(modified_file.diff)\r\n",
        "\r\n",
        "java_data = pd.DataFrame(columns = {'Message': [], 'Code': []})\r\n",
        "java_data['Message'] = messages\r\n",
        "java_data['Code'] = code\r\n",
        "\r\n",
        "java_data['Code'] = java_data['Code'].str.replace(r' +', ' ')\r\n",
        "java_data['Code'] = java_data['Code'].str.replace('\\t', '')\r\n",
        "java_data['Code'] = java_data['Code'].str.replace('\\n', '')\r\n",
        "java_data['Code'] = java_data['Code'].str.replace('\\r', '')\r\n",
        "java_data['Code'] = java_data['Code'].str.replace(r'\\@@.*?@@', '')\r\n",
        "\r\n",
        "java_data['Message'] = java_data['Message'].str.replace('\\t', '')\r\n",
        "java_data['Message'] = java_data['Message'].str.replace('\\n', '')\r\n",
        "java_data['Message'] = java_data['Message'].str.replace('\\r', '')\r\n",
        "java_data['Message'] = java_data['Message'].str.replace(r' +', ' ')\r\n",
        "\r\n",
        "java_data = java_data[java_data['Message'] != 'Initial commit']\r\n",
        "java_data = java_data[java_data['Message'] != 'refactoring']\r\n",
        "java_data = java_data[java_data['Message'] != 'Merge pull request']\r\n",
        "java_data = java_data[java_data['Message'].str.len() > 20]\r\n",
        "java_data = java_data[java_data['Message'].str.len() < 700]\r\n",
        "java_data = java_data[java_data['Code'].str.len() < 1000]\r\n",
        "java_data = java_data[java_data['Code'] != ' ']\r\n",
        "\r\n",
        "java_data.drop_duplicates(inplace=True, subset=['Message'])\r\n",
        "java_data.dropna(subset=['Code'], inplace=True)\r\n",
        "java_data = java_data.sample(frac=1).reset_index(drop=True)\r\n",
        "print(java_data.shape)"
      ],
      "execution_count": 9,
      "outputs": [
        {
          "output_type": "stream",
          "text": [
            "Requirement already satisfied: pydriller in /usr/local/lib/python3.6/dist-packages (1.15.4)\n",
            "Requirement already satisfied: pytz in /usr/local/lib/python3.6/dist-packages (from pydriller) (2018.9)\n",
            "Requirement already satisfied: gitpython in /usr/local/lib/python3.6/dist-packages (from pydriller) (3.1.11)\n",
            "Requirement already satisfied: lizard in /usr/local/lib/python3.6/dist-packages (from pydriller) (1.17.7)\n",
            "Requirement already satisfied: gitdb<5,>=4.0.1 in /usr/local/lib/python3.6/dist-packages (from gitpython->pydriller) (4.0.5)\n",
            "Requirement already satisfied: smmap<4,>=3.0.1 in /usr/local/lib/python3.6/dist-packages (from gitdb<5,>=4.0.1->gitpython->pydriller) (3.0.4)\n",
            "(19915, 2)\n"
          ],
          "name": "stdout"
        }
      ]
    },
    {
      "cell_type": "code",
      "metadata": {
        "colab": {
          "base_uri": "https://localhost:8080/",
          "height": 430
        },
        "id": "OkR0TQsRx36y",
        "outputId": "988e2677-6b42-4870-c42d-366d86f7a902"
      },
      "source": [
        "java_data.head()"
      ],
      "execution_count": 10,
      "outputs": [
        {
          "output_type": "execute_result",
          "data": {
            "text/html": [
              "<div>\n",
              "<style scoped>\n",
              "    .dataframe tbody tr th:only-of-type {\n",
              "        vertical-align: middle;\n",
              "    }\n",
              "\n",
              "    .dataframe tbody tr th {\n",
              "        vertical-align: top;\n",
              "    }\n",
              "\n",
              "    .dataframe thead th {\n",
              "        text-align: right;\n",
              "    }\n",
              "</style>\n",
              "<table border=\"1\" class=\"dataframe\">\n",
              "  <thead>\n",
              "    <tr style=\"text-align: right;\">\n",
              "      <th></th>\n",
              "      <th>Message</th>\n",
              "      <th>Code</th>\n",
              "    </tr>\n",
              "  </thead>\n",
              "  <tbody>\n",
              "    <tr>\n",
              "      <th>0</th>\n",
              "      <td>Upgrade to Influxdb Java 2.9Closes gh-12258</td>\n",
              "      <td>&lt;httpclient.version&gt;4.5.5&lt;/httpclient.version&gt; &lt;httpcore.version&gt;4.4.9&lt;/httpcore.version&gt; &lt;infinispan.version&gt;9.1.6.Final&lt;/infinispan.version&gt;-&lt;influxdb-java.version&gt;2.8&lt;/influxdb-java.version&gt;+&lt;influxdb-java.version&gt;2.9&lt;/influxdb-java.version&gt; &lt;jackson.version&gt;2.9.4&lt;/jackson.version&gt; &lt;janino.v...</td>\n",
              "    </tr>\n",
              "    <tr>\n",
              "      <th>1</th>\n",
              "      <td>Allow beans without public constructors to loadAllow `BeanDefinitionLoader` to load classes that don't have publicconstructors. The constraint was first introduced in d82c50804f04 tosolve an issue with anonymous Groovy classes but causes particularproblems with `@SpringBootTest`.See gh-20929</td>\n",
              "      <td>+/*+ * Copyright 2012-2020 the original author or authors.+ *+ * Licensed under the Apache License, Version 2.0 (the \"License\");+ * you may not use this file except in compliance with the License.+ * You may obtain a copy of the License at+ *+ * https://www.apache.org/licenses/LICENSE-2.0+ *+ * ...</td>\n",
              "    </tr>\n",
              "    <tr>\n",
              "      <th>2</th>\n",
              "      <td>Move shell completion logic to JavaRefactor bash shell completion to move the majority of the logic intothe Java code. This commit also removes the need for the '--' prefix onevery command.</td>\n",
              "      <td>_spring() {- local cur prev help helps words cword command commands i+local cur prev help helps words cword command commands i - COMPREPLY=()- _get_comp_words_by_ref cur prev words cword+_get_comp_words_by_ref cur prev words cword - commands=( `_parse_help spring | sed -e 's/--//'` )- if [[ \"$...</td>\n",
              "    </tr>\n",
              "    <tr>\n",
              "      <th>3</th>\n",
              "      <td>Move spring.oauth2.* to security.oauth2.*Unfortunately, we have no other choice to flip the ignoreUnknownFieldsattribute of `SecurityProperties` has many different target are now setfor that namespace outside the class. See gh-3445 for a potential wayto improve that.Closes gh-3327</td>\n",
              "      <td>import org.springframework.util.StringUtils; * * @author Dave Syer */-@ConfigurationProperties(prefix = \"security\", ignoreUnknownFields = false)+@ConfigurationProperties(prefix = \"security\") public class SecurityProperties implements SecurityPrerequisite {  /**</td>\n",
              "    </tr>\n",
              "    <tr>\n",
              "      <th>4</th>\n",
              "      <td>Sort the table of starter modules alphabeticallyCloses gh-9422</td>\n",
              "      <td>def getStarters(File dir) { ] } }-return starters+return starters.sort { it.name } }  boolean isApplicationStarter(def starter) {</td>\n",
              "    </tr>\n",
              "  </tbody>\n",
              "</table>\n",
              "</div>"
            ],
            "text/plain": [
              "                                                                                                                                                                                                                                                                                                Message                                                                                                                                                                                                                                                                                                         Code\n",
              "0                                                                                                                                                                                                                                                           Upgrade to Influxdb Java 2.9Closes gh-12258   <httpclient.version>4.5.5</httpclient.version> <httpcore.version>4.4.9</httpcore.version> <infinispan.version>9.1.6.Final</infinispan.version>-<influxdb-java.version>2.8</influxdb-java.version>+<influxdb-java.version>2.9</influxdb-java.version> <jackson.version>2.9.4</jackson.version> <janino.v...\n",
              "1  Allow beans without public constructors to loadAllow `BeanDefinitionLoader` to load classes that don't have publicconstructors. The constraint was first introduced in d82c50804f04 tosolve an issue with anonymous Groovy classes but causes particularproblems with `@SpringBootTest`.See gh-20929  +/*+ * Copyright 2012-2020 the original author or authors.+ *+ * Licensed under the Apache License, Version 2.0 (the \"License\");+ * you may not use this file except in compliance with the License.+ * You may obtain a copy of the License at+ *+ * https://www.apache.org/licenses/LICENSE-2.0+ *+ * ...\n",
              "2                                                                                                         Move shell completion logic to JavaRefactor bash shell completion to move the majority of the logic intothe Java code. This commit also removes the need for the '--' prefix onevery command.    _spring() {- local cur prev help helps words cword command commands i+local cur prev help helps words cword command commands i - COMPREPLY=()- _get_comp_words_by_ref cur prev words cword+_get_comp_words_by_ref cur prev words cword - commands=( `_parse_help spring | sed -e 's/--//'` )- if [[ \"$...\n",
              "3             Move spring.oauth2.* to security.oauth2.*Unfortunately, we have no other choice to flip the ignoreUnknownFieldsattribute of `SecurityProperties` has many different target are now setfor that namespace outside the class. See gh-3445 for a potential wayto improve that.Closes gh-3327                                        import org.springframework.util.StringUtils; * * @author Dave Syer */-@ConfigurationProperties(prefix = \"security\", ignoreUnknownFields = false)+@ConfigurationProperties(prefix = \"security\") public class SecurityProperties implements SecurityPrerequisite {  /**\n",
              "4                                                                                                                                                                                                                                        Sort the table of starter modules alphabeticallyCloses gh-9422                                                                                                                                                                            def getStarters(File dir) { ] } }-return starters+return starters.sort { it.name } }  boolean isApplicationStarter(def starter) {"
            ]
          },
          "metadata": {
            "tags": []
          },
          "execution_count": 10
        }
      ]
    },
    {
      "cell_type": "code",
      "metadata": {
        "id": "9dlKRhAS-XRx"
      },
      "source": [
        "java_data.to_csv('pydriller_20k_java.csv', index=False)"
      ],
      "execution_count": 12,
      "outputs": []
    },
    {
      "cell_type": "code",
      "metadata": {
        "id": "xexfPhn0-gc3"
      },
      "source": [
        ""
      ],
      "execution_count": null,
      "outputs": []
    }
  ]
}