{
  "nbformat": 4,
  "nbformat_minor": 0,
  "metadata": {
    "colab": {
      "name": "mining_with_pydriller.ipynb",
      "provenance": [],
      "collapsed_sections": [],
      "machine_shape": "hm"
    },
    "kernelspec": {
      "display_name": "Python 3",
      "language": "python",
      "name": "python3"
    },
    "language_info": {
      "codemirror_mode": {
        "name": "ipython",
        "version": 3
      },
      "file_extension": ".py",
      "mimetype": "text/x-python",
      "name": "python",
      "nbconvert_exporter": "python",
      "pygments_lexer": "ipython3",
      "version": "3.7.0"
    }
  },
  "cells": [
    {
      "cell_type": "code",
      "metadata": {
        "id": "CXjQUi8mxQxu"
      },
      "source": [
        "import json\n",
        "from pathlib import Path\n",
        "import pandas as pd\n",
        "from datetime import datetime \n",
        "pd.set_option('max_colwidth',300)"
      ],
      "execution_count": 1,
      "outputs": []
    },
    {
      "cell_type": "markdown",
      "metadata": {
        "id": "ZTpgNw6A4sFe"
      },
      "source": [
        "**Mining C data from github repositories**"
      ]
    },
    {
      "cell_type": "code",
      "metadata": {
        "colab": {
          "base_uri": "https://localhost:8080/"
        },
        "id": "pU24mpmr9ANr",
        "outputId": "4ee6b83d-b5f3-447b-cf7d-6da822a332e0"
      },
      "source": [
        "!pip install pydriller\n",
        "from pydriller.repository_mining import RepositoryMining\n",
        "\n",
        "since_date = datetime(2020, 11, 28)\n",
        "to_date = datetime(2020, 11, 29)\n",
        "\n",
        "repositories = ['https://github.com/s-matyukevich/raspberry-pi-os',\n",
        "                'https://github.com/ggreer/the_silver_searcher',\n",
        "                'https://github.com/boostorg/graph',\n",
        "                'https://github.com/boostorg/asio.git',\n",
        "                'https://github.com/boostorg/python.git']\n",
        "               # 'https://github.com/vurtun/nuklear',\n",
        "                #'https://github.com/pbatard/rufus',\n",
        "                #'https://github.com/hashcat/hashcat',\n",
        "                #'https://github.com/glfw/glfw']\n",
        "\n",
        "messages, code, complexity, lines = [], [], [], []\n",
        "for repository in repositories:\n",
        "  for commit in RepositoryMining(repository).traverse_commits():\n",
        "    for modified_file in commit.modifications:\n",
        "      if modified_file.methods:\n",
        "        messages.append(commit.msg)\n",
        "        code.append(modified_file.diff)\n",
        "        complexity.append(modified_file.complexity)\n",
        "        lines.append(modified_file.nloc)\n",
        "\n",
        "c_data = pd.DataFrame(columns = {'Message': [], 'Code': [], 'Lines': [], 'Complexity': []})\n",
        "c_data['Message'] = messages\n",
        "c_data['Code'] = code\n",
        "c_data['Lines'] = lines\n",
        "c_data['Complexity'] = complexity\n",
        "\n",
        "c_data['Code'] = c_data['Code'].str.replace(r' +', ' ')\n",
        "c_data['Code'] = c_data['Code'].str.replace(r'\\t', '')\n",
        "c_data['Message'] = c_data['Message'].str.replace(r' +', ' ')\n",
        " \n",
        "c_data = c_data[c_data['Message'] != 'Initial commit']\n",
        "c_data = c_data[c_data['Message'] != 'refactoring']\n",
        "c_data = c_data[c_data['Message'] != 'Merge pull request']\n",
        "c_data = c_data[c_data['Message'].str.len() > 20]\n",
        "c_data = c_data[c_data['Message'].str.len() > 40]\n",
        "c_data = c_data[c_data['Code'] != ' ']\n",
        "\n",
        "c_data.drop_duplicates(inplace=True, subset=['Message'])\n",
        "c_data.dropna(subset=['Code'], inplace=True)\n",
        "print(c_data.shape)"
      ],
      "execution_count": null,
      "outputs": [
        {
          "output_type": "stream",
          "text": [
            "Requirement already satisfied: pydriller in /usr/local/lib/python3.6/dist-packages (1.15.4)\n",
            "Requirement already satisfied: gitpython in /usr/local/lib/python3.6/dist-packages (from pydriller) (3.1.11)\n",
            "Requirement already satisfied: lizard in /usr/local/lib/python3.6/dist-packages (from pydriller) (1.17.7)\n",
            "Requirement already satisfied: pytz in /usr/local/lib/python3.6/dist-packages (from pydriller) (2018.9)\n",
            "Requirement already satisfied: gitdb<5,>=4.0.1 in /usr/local/lib/python3.6/dist-packages (from gitpython->pydriller) (4.0.5)\n",
            "Requirement already satisfied: smmap<4,>=3.0.1 in /usr/local/lib/python3.6/dist-packages (from gitdb<5,>=4.0.1->gitpython->pydriller) (3.0.4)\n",
            "(4194, 4)\n"
          ],
          "name": "stdout"
        }
      ]
    },
    {
      "cell_type": "code",
      "metadata": {
        "colab": {
          "base_uri": "https://localhost:8080/",
          "height": 346
        },
        "id": "R_J-mjXgcjsV",
        "outputId": "e906abd1-1e5e-4b6e-e6ad-b9f44d44c403"
      },
      "source": [
        "c_data.head()"
      ],
      "execution_count": null,
      "outputs": [
        {
          "output_type": "execute_result",
          "data": {
            "text/html": [
              "<div>\n",
              "<style scoped>\n",
              "    .dataframe tbody tr th:only-of-type {\n",
              "        vertical-align: middle;\n",
              "    }\n",
              "\n",
              "    .dataframe tbody tr th {\n",
              "        vertical-align: top;\n",
              "    }\n",
              "\n",
              "    .dataframe thead th {\n",
              "        text-align: right;\n",
              "    }\n",
              "</style>\n",
              "<table border=\"1\" class=\"dataframe\">\n",
              "  <thead>\n",
              "    <tr style=\"text-align: right;\">\n",
              "      <th></th>\n",
              "      <th>Message</th>\n",
              "      <th>Code</th>\n",
              "      <th>Lines</th>\n",
              "      <th>Complexity</th>\n",
              "    </tr>\n",
              "  </thead>\n",
              "  <tbody>\n",
              "    <tr>\n",
              "      <th>60</th>\n",
              "      <td>lesson1 refactored. First version of lesson1 doc created</td>\n",
              "      <td>@@ -5,6 +5,7 @@ void kernel_main(void)\\n uart_init();\\n uart_send_string(\"Hello, world!\\r\\n\");\\n \\n-while (1)\\n+while (1) {\\n uart_send(uart_recv());\\n+}\\n }\\n</td>\n",
              "      <td>9</td>\n",
              "      <td>2</td>\n",
              "    </tr>\n",
              "    <tr>\n",
              "      <th>163</th>\n",
              "      <td>complete 1.2 and 1.4\\n\\nThey are the same files. I mingled them. But the qemu only works with single core.</td>\n",
              "      <td>@@ -0,0 +1,14 @@\\n+#include \"uart.h\"\\n+\\n+void kernel_main(unsigned long id) {\\n+ if(id == 0) {\\n+ uart_init();\\n+ }\\n+ uart_send_string(\"Hello from processor \");\\n+ uart_send(id + 48);\\n+ uart_send_string(\".\\r\\n\");\\n+\\n+ while (1) {\\n+ uart_send(uart_recv());\\n+ }\\n+}\\n</td>\n",
              "      <td>12</td>\n",
              "      <td>3</td>\n",
              "    </tr>\n",
              "    <tr>\n",
              "      <th>184</th>\n",
              "      <td>exercises/rs: Update lesson01/4 to use qemu support for mini UART</td>\n",
              "      <td>@@ -1,4 +1,4 @@\\n-#include \"uart.h\"\\n+#include \"mini_uart.h\"\\n \\n void kernel_main(void) {\\n uart_init();\\n</td>\n",
              "      <td>8</td>\n",
              "      <td>2</td>\n",
              "    </tr>\n",
              "    <tr>\n",
              "      <th>197</th>\n",
              "      <td>exercises/rs: add lesson 03 responses\\n\\nQEMU port does not work yet, I still need to figure out why. I will post\\na patch later.</td>\n",
              "      <td>@@ -0,0 +1,48 @@\\n+#include \"peripherals/irq.h\"\\n+#include \"entry.h\"\\n+#include \"printf.h\"\\n+#include \"timer.h\"\\n+#include \"utils.h\"\\n+\\n+const char *entry_error_messages[] = {\\n+ \"SYNC_INVALID_EL1t\", \"IRQ_INVALID_EL1t\",\\n+ \"FIQ_INVALID_EL1t\", \"ERROR_INVALID_EL1T\",\\n+\\n+ \"SYNC_INVALID_EL1h\", \"IR...</td>\n",
              "      <td>32</td>\n",
              "      <td>4</td>\n",
              "    </tr>\n",
              "    <tr>\n",
              "      <th>215</th>\n",
              "      <td>exercises/rs: add lesson 4 responses for 1, 2 and 4</td>\n",
              "      <td>@@ -0,0 +1,27 @@\\n+#include \"entry.h\"\\n+#include \"mm.h\"\\n+#include \"printf.h\"\\n+#include \"sched.h\"\\n+\\n+int copy_process(unsigned long fn, unsigned long arg) {\\n+ preempt_disable();\\n+ struct task_struct *p;\\n+\\n+ p = (struct task_struct *)get_free_page();\\n+ if (!p)\\n+ return 1;\\n+ p-&gt;priority ...</td>\n",
              "      <td>24</td>\n",
              "      <td>2</td>\n",
              "    </tr>\n",
              "  </tbody>\n",
              "</table>\n",
              "</div>"
            ],
            "text/plain": [
              "                                                                                                                               Message  ... Complexity\n",
              "60                                                                            lesson1 refactored. First version of lesson1 doc created  ...          2\n",
              "163                         complete 1.2 and 1.4\\n\\nThey are the same files. I mingled them. But the qemu only works with single core.  ...          3\n",
              "184                                                                  exercises/rs: Update lesson01/4 to use qemu support for mini UART  ...          2\n",
              "197  exercises/rs: add lesson 03 responses\\n\\nQEMU port does not work yet, I still need to figure out why. I will post\\na patch later.  ...          4\n",
              "215                                                                                exercises/rs: add lesson 4 responses for 1, 2 and 4  ...          2\n",
              "\n",
              "[5 rows x 4 columns]"
            ]
          },
          "metadata": {
            "tags": []
          },
          "execution_count": 11
        }
      ]
    },
    {
      "cell_type": "code",
      "metadata": {
        "id": "YkE2JYfYOaRh"
      },
      "source": [
        "c_data.to_csv('pydriller_5k.csv')"
      ],
      "execution_count": null,
      "outputs": []
    },
    {
      "cell_type": "code",
      "metadata": {
        "colab": {
          "base_uri": "https://localhost:8080/"
        },
        "id": "8oHcJgRiF1p8",
        "outputId": "5d6210ad-e833-483d-bb80-c058da2c5510"
      },
      "source": [
        "!pip install pydriller\n",
        "from pydriller.repository_mining import RepositoryMining\n",
        "\n",
        "repositories = ['https://github.com/boostorg/math',\n",
        "                'https://github.com/boostorg/log',\n",
        "                'https://github.com/antirez/rax',\n",
        "                'https://github.com/Pithikos/C-Thread-Pool',\n",
        "                'https://github.com/google/flatbuffers',\n",
        "                'https://github.com/oracle/python-cx_Oracle',\n",
        "                'https://github.com/oracle/odpi',\n",
        "                'https://github.com/oracle/dtrace-utils.git']\n",
        "\n",
        "messages, code, complexity, lines = [], [], [], []\n",
        "for repository in repositories:\n",
        "  for commit in RepositoryMining(repository).traverse_commits():\n",
        "    for modified_file in commit.modifications:\n",
        "      if modified_file.methods:\n",
        "        messages.append(commit.msg)\n",
        "        code.append(modified_file.diff)\n",
        "        complexity.append(modified_file.complexity)\n",
        "        lines.append(modified_file.nloc)\n",
        "\n",
        "c_data = pd.DataFrame(columns = {'Message': [], 'Code': [], 'Lines': [], 'Complexity': []})\n",
        "c_data['Message'] = messages\n",
        "c_data['Code'] = code\n",
        "c_data['Lines'] = lines\n",
        "c_data['Complexity'] = complexity\n",
        "\n",
        "c_data['Code'] = c_data['Code'].str.replace(r' +', ' ')\n",
        "c_data['Code'] = c_data['Code'].str.replace(r'\\t', '')\n",
        "c_data['Code'] = c_data['Code'].str.replace(r'\\@@.*?@@', '')\n",
        "c_data['Message'] = c_data['Message'].str.replace(r' +', ' ')\n",
        " \n",
        "c_data = c_data[c_data['Message'] != 'Initial commit']\n",
        "c_data = c_data[c_data['Message'] != 'refactoring']\n",
        "c_data = c_data[c_data['Message'] != 'Merge pull request']\n",
        "c_data = c_data[c_data['Message'].str.len() > 20]\n",
        "c_data = c_data[c_data['Message'].str.len() > 40]\n",
        "c_data = c_data[c_data['Code'] != ' ']\n",
        "\n",
        "c_data.drop_duplicates(inplace=True, subset=['Message'])\n",
        "c_data.dropna(subset=['Code'], inplace=True)\n",
        "print(c_data.shape)"
      ],
      "execution_count": 5,
      "outputs": [
        {
          "output_type": "stream",
          "text": [
            "Requirement already satisfied: pydriller in /usr/local/lib/python3.6/dist-packages (1.15.4)\n",
            "Requirement already satisfied: lizard in /usr/local/lib/python3.6/dist-packages (from pydriller) (1.17.7)\n",
            "Requirement already satisfied: gitpython in /usr/local/lib/python3.6/dist-packages (from pydriller) (3.1.11)\n",
            "Requirement already satisfied: pytz in /usr/local/lib/python3.6/dist-packages (from pydriller) (2018.9)\n",
            "Requirement already satisfied: gitdb<5,>=4.0.1 in /usr/local/lib/python3.6/dist-packages (from gitpython->pydriller) (4.0.5)\n",
            "Requirement already satisfied: smmap<4,>=3.0.1 in /usr/local/lib/python3.6/dist-packages (from gitdb<5,>=4.0.1->gitpython->pydriller) (3.0.4)\n",
            "(6197, 4)\n"
          ],
          "name": "stdout"
        }
      ]
    },
    {
      "cell_type": "code",
      "metadata": {
        "colab": {
          "base_uri": "https://localhost:8080/",
          "height": 363
        },
        "id": "aIxIxfGHJS9d",
        "outputId": "01945a6a-82c0-4ed2-cc9c-f12d3d485ff5"
      },
      "source": [
        "c_data.head()"
      ],
      "execution_count": 6,
      "outputs": [
        {
          "output_type": "execute_result",
          "data": {
            "text/html": [
              "<div>\n",
              "<style scoped>\n",
              "    .dataframe tbody tr th:only-of-type {\n",
              "        vertical-align: middle;\n",
              "    }\n",
              "\n",
              "    .dataframe tbody tr th {\n",
              "        vertical-align: top;\n",
              "    }\n",
              "\n",
              "    .dataframe thead th {\n",
              "        text-align: right;\n",
              "    }\n",
              "</style>\n",
              "<table border=\"1\" class=\"dataframe\">\n",
              "  <thead>\n",
              "    <tr style=\"text-align: right;\">\n",
              "      <th></th>\n",
              "      <th>Message</th>\n",
              "      <th>Code</th>\n",
              "      <th>Lines</th>\n",
              "      <th>Complexity</th>\n",
              "    </tr>\n",
              "  </thead>\n",
              "  <tbody>\n",
              "    <tr>\n",
              "      <th>0</th>\n",
              "      <td>Special functions, octonions, quaternions by Hubert Holin\\n\\n\\n[SVN r10404]</td>\n",
              "      <td>\\n+// boost octonion.hpp header file\\n+\\n+// (C) Copyright Hubert Holin 2001. Permission to copy, use, modify, sell and\\n+// distribute this software is granted provided this copyright notice appears\\n+// in all copies. This software is provided \"as is\" without express or implied\\n+// warranty, ...</td>\n",
              "      <td>2089</td>\n",
              "      <td>386</td>\n",
              "    </tr>\n",
              "    <tr>\n",
              "      <th>5</th>\n",
              "      <td>Special functions, octonions, quaternions by Hubert Holin\\n\\n\\n[SVN r10405]</td>\n",
              "      <td>\\n+// test file for octonion.hpp\\n+\\n+// (C) Copyright Hubert Holin 2001. Permission to copy, use, modify, sell and\\n+// distribute this software is granted provided this copyright notice appears\\n+// in all copies. This software is provided \"as is\" without express or implied\\n+// warranty, and ...</td>\n",
              "      <td>439</td>\n",
              "      <td>31</td>\n",
              "    </tr>\n",
              "    <tr>\n",
              "      <th>11</th>\n",
              "      <td>fix various compile problems\\n\\n\\n[SVN r10484]</td>\n",
              "      <td>int test_main(int, char *[])\\n numeric_limits&lt;float&gt;::epsilon());\\n \\n BOOST_CRITICAL_TEST(abs(\\n- exp(::boost::quaternion&lt;float&gt;(0,4*::std::atan(1),0,0))+\\n+ exp(::boost::quaternion&lt;float&gt;(0,4*::std::atan(1.0),0,0))+\\n static_cast&lt;float&gt;(1)) &lt;=\\n numeric_limits&lt;float&gt;::epsilon());\\n \\n BOOST_C...</td>\n",
              "      <td>538</td>\n",
              "      <td>5</td>\n",
              "    </tr>\n",
              "    <tr>\n",
              "      <th>12</th>\n",
              "      <td>moved to namespace boost::math\\nformatting changes\\n\\n\\n[SVN r10568]</td>\n",
              "      <td>\\n-// boost octonion.hpp header file\\n+// boost octonion.hpp header file\\n \\n // (C) Copyright Hubert Holin 2001. Permission to copy, use, modify, sell and\\n // distribute this software is granted provided this copyright notice appears\\n\\n \\n namespace boost\\n {\\n-#define BOOST_OCTONION_ACCESSOR...</td>\n",
              "      <td>2092</td>\n",
              "      <td>386</td>\n",
              "    </tr>\n",
              "    <tr>\n",
              "      <th>17</th>\n",
              "      <td>moved to namespace boost::math\\nformatting changed\\n\\n\\n[SVN r10569]</td>\n",
              "      <td>\\n \\n // explicit (if ludicrous) instanciation\\n #ifndef __GNUC__\\n-template class ::boost::octonion&lt;int&gt;;\\n+template class ::boost::math::octonion&lt;int&gt;;\\n #else\\n // gcc 3.0 doesn't like the absolutely-qualified namespace\\n-template class boost::octonion&lt;int&gt;;\\n+template class boost::math::octo...</td>\n",
              "      <td>367</td>\n",
              "      <td>13</td>\n",
              "    </tr>\n",
              "  </tbody>\n",
              "</table>\n",
              "</div>"
            ],
            "text/plain": [
              "                                                                        Message  ... Complexity\n",
              "0   Special functions, octonions, quaternions by Hubert Holin\\n\\n\\n[SVN r10404]  ...        386\n",
              "5   Special functions, octonions, quaternions by Hubert Holin\\n\\n\\n[SVN r10405]  ...         31\n",
              "11                               fix various compile problems\\n\\n\\n[SVN r10484]  ...          5\n",
              "12         moved to namespace boost::math\\nformatting changes\\n\\n\\n[SVN r10568]  ...        386\n",
              "17         moved to namespace boost::math\\nformatting changed\\n\\n\\n[SVN r10569]  ...         13\n",
              "\n",
              "[5 rows x 4 columns]"
            ]
          },
          "metadata": {
            "tags": []
          },
          "execution_count": 6
        }
      ]
    },
    {
      "cell_type": "code",
      "metadata": {
        "id": "jigTKQH6OvH9"
      },
      "source": [
        "c_data.to_csv('pydriller_6k_filtered.csv')"
      ],
      "execution_count": 7,
      "outputs": []
    },
    {
      "cell_type": "code",
      "metadata": {
        "id": "se_Hp78kVW1M"
      },
      "source": [
        ""
      ],
      "execution_count": null,
      "outputs": []
    }
  ]
}