{
  "nbformat": 4,
  "nbformat_minor": 0,
  "metadata": {
    "colab": {
      "name": "Data_CodeSearch.ipynb",
      "provenance": [],
      "collapsed_sections": []
    },
    "kernelspec": {
      "name": "python3",
      "display_name": "Python 3"
    }
  },
  "cells": [
    {
      "cell_type": "code",
      "metadata": {
        "id": "nkpfnlqEz6qa"
      },
      "source": [
        "import json\n",
        "from pathlib import Path\n",
        "import pandas as pd"
      ],
      "execution_count": 1,
      "outputs": []
    },
    {
      "cell_type": "markdown",
      "metadata": {
        "id": "bl3gwJA60Bm8"
      },
      "source": [
        "**Python code-comment dataset from CodeSearchNet challenge**"
      ]
    },
    {
      "cell_type": "code",
      "metadata": {
        "colab": {
          "base_uri": "https://localhost:8080/"
        },
        "id": "71yDz2bgz-I5",
        "outputId": "0bcb7aed-0938-456b-ebe5-1d095c4fbcac"
      },
      "source": [
        "!wget https://s3.amazonaws.com/code-search-net/CodeSearchNet/v2/python.zip\n",
        "!unzip python.zip\n",
        "!gzip -d python/final/jsonl/test/python_test_0.jsonl.gz"
      ],
      "execution_count": 2,
      "outputs": [
        {
          "output_type": "stream",
          "text": [
            "--2020-11-29 21:02:58--  https://s3.amazonaws.com/code-search-net/CodeSearchNet/v2/python.zip\n",
            "Resolving s3.amazonaws.com (s3.amazonaws.com)... 52.216.179.109\n",
            "Connecting to s3.amazonaws.com (s3.amazonaws.com)|52.216.179.109|:443... connected.\n",
            "HTTP request sent, awaiting response... 200 OK\n",
            "Length: 940909997 (897M) [application/zip]\n",
            "Saving to: ‘python.zip’\n",
            "\n",
            "python.zip          100%[===================>] 897.32M  16.5MB/s    in 63s     \n",
            "\n",
            "2020-11-29 21:04:02 (14.2 MB/s) - ‘python.zip’ saved [940909997/940909997]\n",
            "\n",
            "Archive:  python.zip\n",
            "   creating: python/\n",
            "   creating: python/final/\n",
            "   creating: python/final/jsonl/\n",
            "   creating: python/final/jsonl/train/\n",
            "  inflating: python/final/jsonl/train/python_train_9.jsonl.gz  \n",
            "  inflating: python/final/jsonl/train/python_train_12.jsonl.gz  \n",
            "  inflating: python/final/jsonl/train/python_train_10.jsonl.gz  \n",
            "  inflating: python/final/jsonl/train/python_train_0.jsonl.gz  \n",
            "  inflating: python/final/jsonl/train/python_train_6.jsonl.gz  \n",
            "  inflating: python/final/jsonl/train/python_train_2.jsonl.gz  \n",
            "  inflating: python/final/jsonl/train/python_train_4.jsonl.gz  \n",
            "  inflating: python/final/jsonl/train/python_train_8.jsonl.gz  \n",
            "  inflating: python/final/jsonl/train/python_train_11.jsonl.gz  \n",
            "  inflating: python/final/jsonl/train/python_train_5.jsonl.gz  \n",
            "  inflating: python/final/jsonl/train/python_train_13.jsonl.gz  \n",
            "  inflating: python/final/jsonl/train/python_train_3.jsonl.gz  \n",
            "  inflating: python/final/jsonl/train/python_train_1.jsonl.gz  \n",
            "  inflating: python/final/jsonl/train/python_train_7.jsonl.gz  \n",
            "   creating: python/final/jsonl/test/\n",
            "  inflating: python/final/jsonl/test/python_test_0.jsonl.gz  \n",
            "   creating: python/final/jsonl/valid/\n",
            "  inflating: python/final/jsonl/valid/python_valid_0.jsonl.gz  \n",
            "  inflating: python_dedupe_definitions_v2.pkl  \n",
            "  inflating: python_licenses.pkl     \n"
          ],
          "name": "stdout"
        }
      ]
    },
    {
      "cell_type": "code",
      "metadata": {
        "colab": {
          "base_uri": "https://localhost:8080/",
          "height": 568
        },
        "id": "VxlJJlbG0FDu",
        "outputId": "6735b2d5-9f8f-401f-e5b9-3f605dabab0b"
      },
      "source": [
        "python_files = sorted(Path('python/').glob('**/*.gz'))\n",
        "python_columns_list = ['repo', 'path', 'url', 'code', \n",
        "                'code_tokens', 'docstring', 'docstring_tokens', \n",
        "                'language', 'partition']\n",
        "\n",
        "# Convert downloaded json files into a dataframe\n",
        "python_data = pd.concat([pd.read_json(file,\n",
        "                        orient='records',\n",
        "                        compression='gzip',\n",
        "                        lines=True)[python_columns_list] for file in python_files],\n",
        "                        sort=False)\n",
        "\n",
        "python_data.head(5)"
      ],
      "execution_count": 3,
      "outputs": [
        {
          "output_type": "execute_result",
          "data": {
            "text/html": [
              "<div>\n",
              "<style scoped>\n",
              "    .dataframe tbody tr th:only-of-type {\n",
              "        vertical-align: middle;\n",
              "    }\n",
              "\n",
              "    .dataframe tbody tr th {\n",
              "        vertical-align: top;\n",
              "    }\n",
              "\n",
              "    .dataframe thead th {\n",
              "        text-align: right;\n",
              "    }\n",
              "</style>\n",
              "<table border=\"1\" class=\"dataframe\">\n",
              "  <thead>\n",
              "    <tr style=\"text-align: right;\">\n",
              "      <th></th>\n",
              "      <th>repo</th>\n",
              "      <th>path</th>\n",
              "      <th>url</th>\n",
              "      <th>code</th>\n",
              "      <th>code_tokens</th>\n",
              "      <th>docstring</th>\n",
              "      <th>docstring_tokens</th>\n",
              "      <th>language</th>\n",
              "      <th>partition</th>\n",
              "    </tr>\n",
              "  </thead>\n",
              "  <tbody>\n",
              "    <tr>\n",
              "      <th>0</th>\n",
              "      <td>ageitgey/face_recognition</td>\n",
              "      <td>examples/face_recognition_knn.py</td>\n",
              "      <td>https://github.com/ageitgey/face_recognition/b...</td>\n",
              "      <td>def train(train_dir, model_save_path=None, n_n...</td>\n",
              "      <td>[def, train, (, train_dir, ,, model_save_path,...</td>\n",
              "      <td>Trains a k-nearest neighbors classifier for fa...</td>\n",
              "      <td>[Trains, a, k, -, nearest, neighbors, classifi...</td>\n",
              "      <td>python</td>\n",
              "      <td>train</td>\n",
              "    </tr>\n",
              "    <tr>\n",
              "      <th>1</th>\n",
              "      <td>ageitgey/face_recognition</td>\n",
              "      <td>examples/face_recognition_knn.py</td>\n",
              "      <td>https://github.com/ageitgey/face_recognition/b...</td>\n",
              "      <td>def predict(X_img_path, knn_clf=None, model_pa...</td>\n",
              "      <td>[def, predict, (, X_img_path, ,, knn_clf, =, N...</td>\n",
              "      <td>Recognizes faces in given image using a traine...</td>\n",
              "      <td>[Recognizes, faces, in, given, image, using, a...</td>\n",
              "      <td>python</td>\n",
              "      <td>train</td>\n",
              "    </tr>\n",
              "    <tr>\n",
              "      <th>2</th>\n",
              "      <td>ageitgey/face_recognition</td>\n",
              "      <td>examples/face_recognition_knn.py</td>\n",
              "      <td>https://github.com/ageitgey/face_recognition/b...</td>\n",
              "      <td>def show_prediction_labels_on_image(img_path, ...</td>\n",
              "      <td>[def, show_prediction_labels_on_image, (, img_...</td>\n",
              "      <td>Shows the face recognition results visually.\\n...</td>\n",
              "      <td>[Shows, the, face, recognition, results, visua...</td>\n",
              "      <td>python</td>\n",
              "      <td>train</td>\n",
              "    </tr>\n",
              "    <tr>\n",
              "      <th>3</th>\n",
              "      <td>ageitgey/face_recognition</td>\n",
              "      <td>face_recognition/api.py</td>\n",
              "      <td>https://github.com/ageitgey/face_recognition/b...</td>\n",
              "      <td>def _rect_to_css(rect):\\n    \"\"\"\\n    Convert ...</td>\n",
              "      <td>[def, _rect_to_css, (, rect, ), :, return, rec...</td>\n",
              "      <td>Convert a dlib 'rect' object to a plain tuple ...</td>\n",
              "      <td>[Convert, a, dlib, rect, object, to, a, plain,...</td>\n",
              "      <td>python</td>\n",
              "      <td>train</td>\n",
              "    </tr>\n",
              "    <tr>\n",
              "      <th>4</th>\n",
              "      <td>ageitgey/face_recognition</td>\n",
              "      <td>face_recognition/api.py</td>\n",
              "      <td>https://github.com/ageitgey/face_recognition/b...</td>\n",
              "      <td>def _trim_css_to_bounds(css, image_shape):\\n  ...</td>\n",
              "      <td>[def, _trim_css_to_bounds, (, css, ,, image_sh...</td>\n",
              "      <td>Make sure a tuple in (top, right, bottom, left...</td>\n",
              "      <td>[Make, sure, a, tuple, in, (, top, right, bott...</td>\n",
              "      <td>python</td>\n",
              "      <td>train</td>\n",
              "    </tr>\n",
              "  </tbody>\n",
              "</table>\n",
              "</div>"
            ],
            "text/plain": [
              "                        repo  ... partition\n",
              "0  ageitgey/face_recognition  ...     train\n",
              "1  ageitgey/face_recognition  ...     train\n",
              "2  ageitgey/face_recognition  ...     train\n",
              "3  ageitgey/face_recognition  ...     train\n",
              "4  ageitgey/face_recognition  ...     train\n",
              "\n",
              "[5 rows x 9 columns]"
            ]
          },
          "metadata": {
            "tags": []
          },
          "execution_count": 3
        }
      ]
    },
    {
      "cell_type": "markdown",
      "metadata": {
        "id": "JmMPve0y3870"
      },
      "source": [
        "**Java code-comment dataset from CodeSearchNet challenge**"
      ]
    },
    {
      "cell_type": "code",
      "metadata": {
        "colab": {
          "base_uri": "https://localhost:8080/"
        },
        "id": "eX-iXbaB0HWV",
        "outputId": "342bea9d-7f30-4daa-b481-e3c799e99c80"
      },
      "source": [
        "!rm java.*\n",
        "!wget https://s3.amazonaws.com/code-search-net/CodeSearchNet/v2/java.zip\n",
        "!unzip java.zip\n",
        "!gzip -d java/final/jsonl/test/java_test_0.jsonl.gz"
      ],
      "execution_count": 6,
      "outputs": [
        {
          "output_type": "stream",
          "text": [
            "--2020-11-29 21:12:36--  https://s3.amazonaws.com/code-search-net/CodeSearchNet/v2/java.zip\n",
            "Resolving s3.amazonaws.com (s3.amazonaws.com)... 52.216.226.147\n",
            "Connecting to s3.amazonaws.com (s3.amazonaws.com)|52.216.226.147|:443... connected.\n",
            "HTTP request sent, awaiting response... 200 OK\n",
            "Length: 1060569153 (1011M) [application/zip]\n",
            "Saving to: ‘java.zip’\n",
            "\n",
            "java.zip            100%[===================>]   1011M  16.6MB/s    in 63s     \n",
            "\n",
            "2020-11-29 21:13:41 (15.9 MB/s) - ‘java.zip’ saved [1060569153/1060569153]\n",
            "\n",
            "Archive:  java.zip\n",
            "replace java/final/jsonl/train/java_train_12.jsonl.gz? [y]es, [n]o, [A]ll, [N]one, [r]ename: y\n",
            "  inflating: java/final/jsonl/train/java_train_12.jsonl.gz  \n",
            "replace java/final/jsonl/train/java_train_9.jsonl.gz? [y]es, [n]o, [A]ll, [N]one, [r]ename: y\n",
            "  inflating: java/final/jsonl/train/java_train_9.jsonl.gz  \n",
            "replace java/final/jsonl/train/java_train_3.jsonl.gz? [y]es, [n]o, [A]ll, [N]one, [r]ename: y\n",
            "  inflating: java/final/jsonl/train/java_train_3.jsonl.gz  \n",
            "replace java/final/jsonl/train/java_train_5.jsonl.gz? [y]es, [n]o, [A]ll, [N]one, [r]ename: y\n",
            "  inflating: java/final/jsonl/train/java_train_5.jsonl.gz  \n",
            "replace java/final/jsonl/train/java_train_7.jsonl.gz? [y]es, [n]o, [A]ll, [N]one, [r]ename: y\n",
            "  inflating: java/final/jsonl/train/java_train_7.jsonl.gz  \n",
            "replace java/final/jsonl/train/java_train_1.jsonl.gz? [y]es, [n]o, [A]ll, [N]one, [r]ename: A\n",
            "  inflating: java/final/jsonl/train/java_train_1.jsonl.gz  \n",
            "  inflating: java/final/jsonl/train/java_train_10.jsonl.gz  \n",
            "  inflating: java/final/jsonl/train/java_train_14.jsonl.gz  \n",
            "  inflating: java/final/jsonl/train/java_train_0.jsonl.gz  \n",
            "  inflating: java/final/jsonl/train/java_train_6.jsonl.gz  \n",
            "  inflating: java/final/jsonl/train/java_train_8.jsonl.gz  \n",
            "  inflating: java/final/jsonl/train/java_train_15.jsonl.gz  \n",
            "  inflating: java/final/jsonl/train/java_train_2.jsonl.gz  \n",
            "  inflating: java/final/jsonl/train/java_train_4.jsonl.gz  \n",
            "  inflating: java/final/jsonl/train/java_train_13.jsonl.gz  \n",
            "  inflating: java/final/jsonl/train/java_train_11.jsonl.gz  \n",
            "  inflating: java/final/jsonl/test/java_test_0.jsonl.gz  \n",
            "  inflating: java/final/jsonl/valid/java_valid_0.jsonl.gz  \n",
            "  inflating: java_dedupe_definitions_v2.pkl  \n",
            "  inflating: java_licenses.pkl       \n",
            "gzip: java/final/jsonl/test/java_test_0.jsonl already exists; do you wish to overwrite (y or n)? y\n"
          ],
          "name": "stdout"
        }
      ]
    },
    {
      "cell_type": "code",
      "metadata": {
        "colab": {
          "base_uri": "https://localhost:8080/",
          "height": 363
        },
        "id": "ZwEuSrS31uUU",
        "outputId": "dbce89b2-2c30-4672-ef20-02506b89fee6"
      },
      "source": [
        "java_files = sorted(Path('java/').glob('**/*.gz'))\n",
        "java_columns_list = ['repo', 'path', 'url', 'code', \n",
        "                'code_tokens', 'docstring', 'docstring_tokens', \n",
        "                'language', 'partition']\n",
        "\n",
        "# Convert downloaded json files into a dataframe\n",
        "java_data = pd.concat([pd.read_json(file,\n",
        "                        orient='records',\n",
        "                        compression='gzip',\n",
        "                        lines=True)[java_columns_list] for file in java_files],\n",
        "                        sort=False)\n",
        "\n",
        "java_data.head(5)"
      ],
      "execution_count": 7,
      "outputs": [
        {
          "output_type": "execute_result",
          "data": {
            "text/html": [
              "<div>\n",
              "<style scoped>\n",
              "    .dataframe tbody tr th:only-of-type {\n",
              "        vertical-align: middle;\n",
              "    }\n",
              "\n",
              "    .dataframe tbody tr th {\n",
              "        vertical-align: top;\n",
              "    }\n",
              "\n",
              "    .dataframe thead th {\n",
              "        text-align: right;\n",
              "    }\n",
              "</style>\n",
              "<table border=\"1\" class=\"dataframe\">\n",
              "  <thead>\n",
              "    <tr style=\"text-align: right;\">\n",
              "      <th></th>\n",
              "      <th>repo</th>\n",
              "      <th>path</th>\n",
              "      <th>url</th>\n",
              "      <th>code</th>\n",
              "      <th>code_tokens</th>\n",
              "      <th>docstring</th>\n",
              "      <th>docstring_tokens</th>\n",
              "      <th>language</th>\n",
              "      <th>partition</th>\n",
              "    </tr>\n",
              "  </thead>\n",
              "  <tbody>\n",
              "    <tr>\n",
              "      <th>0</th>\n",
              "      <td>spring-projects/spring-boot</td>\n",
              "      <td>spring-boot-project/spring-boot/src/main/java/...</td>\n",
              "      <td>https://github.com/spring-projects/spring-boot...</td>\n",
              "      <td>protected final void bindIndexed(Configuration...</td>\n",
              "      <td>[protected, final, void, bindIndexed, (, Confi...</td>\n",
              "      <td>Bind indexed elements to the supplied collecti...</td>\n",
              "      <td>[Bind, indexed, elements, to, the, supplied, c...</td>\n",
              "      <td>java</td>\n",
              "      <td>train</td>\n",
              "    </tr>\n",
              "    <tr>\n",
              "      <th>1</th>\n",
              "      <td>spring-projects/spring-boot</td>\n",
              "      <td>spring-boot-project/spring-boot/src/main/java/...</td>\n",
              "      <td>https://github.com/spring-projects/spring-boot...</td>\n",
              "      <td>public void setServletRegistrationBeans(\\n\\t\\t...</td>\n",
              "      <td>[public, void, setServletRegistrationBeans, (,...</td>\n",
              "      <td>Set {@link ServletRegistrationBean}s that the ...</td>\n",
              "      <td>[Set, {]</td>\n",
              "      <td>java</td>\n",
              "      <td>train</td>\n",
              "    </tr>\n",
              "    <tr>\n",
              "      <th>2</th>\n",
              "      <td>spring-projects/spring-boot</td>\n",
              "      <td>spring-boot-project/spring-boot/src/main/java/...</td>\n",
              "      <td>https://github.com/spring-projects/spring-boot...</td>\n",
              "      <td>public void addServletRegistrationBeans(\\n\\t\\t...</td>\n",
              "      <td>[public, void, addServletRegistrationBeans, (,...</td>\n",
              "      <td>Add {@link ServletRegistrationBean}s for the f...</td>\n",
              "      <td>[Add, {]</td>\n",
              "      <td>java</td>\n",
              "      <td>train</td>\n",
              "    </tr>\n",
              "    <tr>\n",
              "      <th>3</th>\n",
              "      <td>spring-projects/spring-boot</td>\n",
              "      <td>spring-boot-project/spring-boot/src/main/java/...</td>\n",
              "      <td>https://github.com/spring-projects/spring-boot...</td>\n",
              "      <td>public void setServletNames(Collection&lt;String&gt;...</td>\n",
              "      <td>[public, void, setServletNames, (, Collection,...</td>\n",
              "      <td>Set servlet names that the filter will be regi...</td>\n",
              "      <td>[Set, servlet, names, that, the, filter, will,...</td>\n",
              "      <td>java</td>\n",
              "      <td>train</td>\n",
              "    </tr>\n",
              "    <tr>\n",
              "      <th>4</th>\n",
              "      <td>spring-projects/spring-boot</td>\n",
              "      <td>spring-boot-project/spring-boot/src/main/java/...</td>\n",
              "      <td>https://github.com/spring-projects/spring-boot...</td>\n",
              "      <td>public void addServletNames(String... servletN...</td>\n",
              "      <td>[public, void, addServletNames, (, String, ......</td>\n",
              "      <td>Add servlet names for the filter.\\n@param serv...</td>\n",
              "      <td>[Add, servlet, names, for, the, filter, .]</td>\n",
              "      <td>java</td>\n",
              "      <td>train</td>\n",
              "    </tr>\n",
              "  </tbody>\n",
              "</table>\n",
              "</div>"
            ],
            "text/plain": [
              "                          repo  ... partition\n",
              "0  spring-projects/spring-boot  ...     train\n",
              "1  spring-projects/spring-boot  ...     train\n",
              "2  spring-projects/spring-boot  ...     train\n",
              "3  spring-projects/spring-boot  ...     train\n",
              "4  spring-projects/spring-boot  ...     train\n",
              "\n",
              "[5 rows x 9 columns]"
            ]
          },
          "metadata": {
            "tags": []
          },
          "execution_count": 7
        }
      ]
    },
    {
      "cell_type": "code",
      "metadata": {
        "id": "JIaQr4KP3lUg"
      },
      "source": [
        ""
      ],
      "execution_count": null,
      "outputs": []
    }
  ]
}